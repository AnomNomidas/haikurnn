{
 "cells": [
  {
   "cell_type": "code",
   "execution_count": 1,
   "metadata": {},
   "outputs": [
    {
     "name": "stderr",
     "output_type": "stream",
     "text": [
      "Using TensorFlow backend.\n"
     ]
    }
   ],
   "source": [
    "try:\n",
    "    import keras\n",
    "except:\n",
    "    !pip install keras"
   ]
  },
  {
   "cell_type": "code",
   "execution_count": 2,
   "metadata": {},
   "outputs": [],
   "source": [
    "import tensorflow as tf\n",
    "tf_session = tf.Session()\n",
    "from keras import backend as K\n",
    "K.set_session(tf_session)\n",
    "\n",
    "from sklearn.externals import joblib\n",
    "\n",
    "# Local library with model definitions for training and generating\n",
    "from models import create_training_model, Generator"
   ]
  },
  {
   "cell_type": "code",
   "execution_count": 3,
   "metadata": {},
   "outputs": [],
   "source": [
    "# Load a copy of the training model from disk by creating a new model using the same parameters and then loading the weights.\n",
    "\n",
    "# Get the parameters used for creating the model\n",
    "latent_dim, n_tokens, max_line_length, tokenizer = joblib.load('../metadata.pkl')\n",
    "\n",
    "# Create the new placeholder model\n",
    "training_model, lstm, lines, inputs, outputs = create_training_model(latent_dim, n_tokens)\n",
    "\n",
    "# Load the specified weights\n",
    "training_model.load_weights('../lstm-4-added-twaiku-2048-04-1.17.hdf5')"
   ]
  },
  {
   "cell_type": "code",
   "execution_count": 4,
   "metadata": {},
   "outputs": [],
   "source": [
    "# Create a generator using the training model as the template\n",
    "\n",
    "generator = Generator(lstm, lines, tf_session, tokenizer, n_tokens, max_line_length)"
   ]
  },
  {
   "cell_type": "code",
   "execution_count": 5,
   "metadata": {},
   "outputs": [
    {
     "name": "stdout",
     "output_type": "stream",
     "text": [
      "wwhy do people say\n",
      "they think they want to be the\n"
     ]
    },
    {
     "name": "stderr",
     "output_type": "stream",
     "text": [
      "/mnt/d/Documents/workspace/haikurnn/notebooks/models/v1/models.py:10: RuntimeWarning: divide by zero encountered in log\n",
      "  preds = np.log(preds) / temperature\n"
     ]
    },
    {
     "name": "stdout",
     "output_type": "stream",
     "text": [
      "oone that don't see them\n",
      "\n",
      "bbeing a single\n",
      "day is a single song i\n",
      "aam so excited\n",
      "\n",
      "zzan and my baby\n",
      "so much that i don't know what\n",
      "tthe fuck is this week\n",
      "\n",
      "ggood morning to all\n",
      "the people who don't like them\n",
      "tto make you stand up\n",
      "\n",
      "tthe people who say\n",
      "they are the ones who don't think\n",
      "tthey would be so good\n",
      "\n",
      "ccan someone tell me\n",
      "why i don't want to be the\n",
      "oone to get this shit\n",
      "\n",
      "cconsumer seeking\n",
      "man is a struggle to spend\n",
      "tthe same straight to be\n",
      "\n",
      "wwhat a great season\n",
      "is a single constant thing\n",
      "ii have ever seen\n",
      "\n",
      "eevery time i\n",
      "start a good day i feel like\n",
      "ii was straight up it\n",
      "\n",
      "yyou should be writing\n",
      "like a constant story that\n",
      "iis a sunday more\n",
      "\n",
      "ffinally got my\n",
      "hair done i want to go out\n",
      "aand start a lil bitch\n",
      "\n",
      "ssome people are so\n",
      "so so so so so so so\n",
      "ssad and think about\n",
      "\n",
      "mmy body is so\n",
      "so so so so so so so\n",
      "sso so so so sore\n",
      "\n",
      "rreally want to go\n",
      "to the store to be a bitch\n",
      "ii was so so sore\n",
      "\n",
      "uupdate i was so\n",
      "so so so so so so so\n",
      "sso so so so sore\n",
      "\n",
      "mmy sister is so\n",
      "much to spend the past the world\n",
      "ii got to the truth\n",
      "\n",
      "hhow many times is\n",
      "the most unique in the world\n",
      "ii have ever said\n",
      "\n",
      "wwhy do i always\n",
      "start a little bit of the\n",
      "sstate of my life lol\n",
      "\n",
      "aanyone wanna\n",
      "get the same shit to the gym\n",
      "ii was so so sore\n",
      "\n",
      "xx the people who\n",
      "don't have to stay in the same\n",
      "tthing about the point\n",
      "\n"
     ]
    }
   ],
   "source": [
    "for i in range(20):\n",
    "    generator.generate_haiku()\n",
    "    print()"
   ]
  },
  {
   "cell_type": "code",
   "execution_count": null,
   "metadata": {},
   "outputs": [],
   "source": []
  }
 ],
 "metadata": {
  "kernelspec": {
   "display_name": "Python 3",
   "language": "python",
   "name": "python3"
  },
  "language_info": {
   "codemirror_mode": {
    "name": "ipython",
    "version": 3
   },
   "file_extension": ".py",
   "mimetype": "text/x-python",
   "name": "python",
   "nbconvert_exporter": "python",
   "pygments_lexer": "ipython3",
   "version": "3.6.6"
  }
 },
 "nbformat": 4,
 "nbformat_minor": 2
}
