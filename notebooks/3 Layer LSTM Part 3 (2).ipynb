{
 "cells": [
  {
   "cell_type": "code",
   "execution_count": 1,
   "metadata": {},
   "outputs": [
    {
     "name": "stderr",
     "output_type": "stream",
     "text": [
      "/usr/local/lib/python3.5/dist-packages/h5py/__init__.py:36: FutureWarning: Conversion of the second argument of issubdtype from `float` to `np.floating` is deprecated. In future, it will be treated as `np.float64 == np.dtype(float).type`.\n",
      "  from ._conv import register_converters as _register_converters\n",
      "Using TensorFlow backend.\n"
     ]
    }
   ],
   "source": [
    "import keras\n",
    "import pandas as pd\n",
    "import numpy as np\n",
    "from keras.models import Sequential\n",
    "from keras.layers import Dense\n",
    "from keras.layers import Dropout\n",
    "from keras.layers import LSTM\n",
    "from keras.callbacks import ModelCheckpoint\n",
    "from keras.utils import np_utils\n",
    "from keras.layers import Dense, Dropout, LSTM, Embedding, Reshape, Input, InputLayer, Concatenate\n",
    "from keras.preprocessing.sequence import pad_sequences\n",
    "from keras.models import Sequential, Model"
   ]
  },
  {
   "cell_type": "code",
   "execution_count": 2,
   "metadata": {},
   "outputs": [],
   "source": [
    "n_samples = 20000\n",
    "sample_inputs = []\n",
    "sample_outputs = []\n",
    "n_tokens = 61\n",
    "\n",
    "patterns = [\n",
    "    lambda i: list(range(i, i+3)),\n",
    "    lambda i: list(range(i, i-3, -1))\n",
    "]\n",
    "\n",
    "for n in range(n_samples):\n",
    "    sample_in = []\n",
    "    sample_out = []\n",
    "    for line_number in range(3):\n",
    "        i = np.random.randint(10,50)\n",
    "        #line = list(range(i, i+3))\n",
    "        pattern = np.random.randint(len(patterns))\n",
    "        line = patterns[pattern](i)\n",
    "        '''if line_number == 0:\n",
    "            sample_in.append([line[0]] + line)\n",
    "        else:\n",
    "            sample_in.append([0] + line)'''\n",
    "            \n",
    "        sample_in.append([line[0]] + line)\n",
    "        sample_out.append(line + [60])\n",
    "        \n",
    "        \n",
    "        #sample.append(np.arange(i, i+3))\n",
    "    #samples.append(sample)\n",
    "    sample_inputs.append(sample_in)\n",
    "    sample_outputs.append(sample_out)\n",
    "    \n",
    "X = np_utils.to_categorical(sample_inputs, num_classes=n_tokens)\n",
    "Y = np_utils.to_categorical(sample_outputs, num_classes=n_tokens)"
   ]
  },
  {
   "cell_type": "code",
   "execution_count": 3,
   "metadata": {},
   "outputs": [
    {
     "data": {
      "text/plain": [
       "[[[16, 16, 15, 14], [20, 20, 19, 18], [37, 37, 36, 35]],\n",
       " [[28, 28, 27, 26], [36, 36, 37, 38], [24, 24, 23, 22]],\n",
       " [[19, 19, 20, 21], [34, 34, 35, 36], [18, 18, 19, 20]],\n",
       " [[39, 39, 40, 41], [24, 24, 23, 22], [30, 30, 31, 32]],\n",
       " [[16, 16, 15, 14], [49, 49, 50, 51], [44, 44, 43, 42]],\n",
       " [[29, 29, 28, 27], [38, 38, 39, 40], [34, 34, 33, 32]],\n",
       " [[39, 39, 38, 37], [15, 15, 14, 13], [31, 31, 32, 33]],\n",
       " [[38, 38, 39, 40], [12, 12, 11, 10], [24, 24, 25, 26]],\n",
       " [[27, 27, 26, 25], [44, 44, 43, 42], [30, 30, 29, 28]],\n",
       " [[35, 35, 36, 37], [26, 26, 25, 24], [44, 44, 43, 42]]]"
      ]
     },
     "execution_count": 3,
     "metadata": {},
     "output_type": "execute_result"
    }
   ],
   "source": [
    "sample_inputs[:10]"
   ]
  },
  {
   "cell_type": "code",
   "execution_count": 4,
   "metadata": {},
   "outputs": [
    {
     "name": "stdout",
     "output_type": "stream",
     "text": [
      "________________________________________________________________________________________________________________________________________________________________________________________________________\n",
      "Layer (type)                                                      Output Shape                                Param #                 Connected to                                                      \n",
      "========================================================================================================================================================================================================\n",
      "input_1 (InputLayer)                                              (None, None, 61)                            0                                                                                         \n",
      "________________________________________________________________________________________________________________________________________________________________________________________________________\n",
      "lstm_1 (LSTM)                                                     [(None, None, 512), (None, 512), (None, 512 1175552                 input_1[0][0]                                                     \n",
      "________________________________________________________________________________________________________________________________________________________________________________________________________\n",
      "input_2 (InputLayer)                                              (None, None, 61)                            0                                                                                         \n",
      "________________________________________________________________________________________________________________________________________________________________________________________________________\n",
      "lstm_2 (LSTM)                                                     [(None, None, 512), (None, 512), (None, 512 1175552                 input_2[0][0]                                                     \n",
      "                                                                                                                                      lstm_1[0][1]                                                      \n",
      "                                                                                                                                      lstm_1[0][2]                                                      \n",
      "________________________________________________________________________________________________________________________________________________________________________________________________________\n",
      "input_3 (InputLayer)                                              (None, None, 61)                            0                                                                                         \n",
      "________________________________________________________________________________________________________________________________________________________________________________________________________\n",
      "lstm_3 (LSTM)                                                     [(None, None, 512), (None, 512), (None, 512 1175552                 input_3[0][0]                                                     \n",
      "                                                                                                                                      lstm_2[0][1]                                                      \n",
      "                                                                                                                                      lstm_2[0][2]                                                      \n",
      "________________________________________________________________________________________________________________________________________________________________________________________________________\n",
      "dense_1 (Dense)                                                   (None, None, 61)                            31293                   lstm_1[0][0]                                                      \n",
      "________________________________________________________________________________________________________________________________________________________________________________________________________\n",
      "dense_2 (Dense)                                                   (None, None, 61)                            31293                   lstm_2[0][0]                                                      \n",
      "________________________________________________________________________________________________________________________________________________________________________________________________________\n",
      "dense_3 (Dense)                                                   (None, None, 61)                            31293                   lstm_3[0][0]                                                      \n",
      "========================================================================================================================================================================================================\n",
      "Total params: 3,620,535\n",
      "Trainable params: 3,620,535\n",
      "Non-trainable params: 0\n",
      "________________________________________________________________________________________________________________________________________________________________________________________________________\n"
     ]
    }
   ],
   "source": [
    "latent_dim = 512\n",
    "\n",
    "# Keras Model\n",
    "\n",
    "inputs = [Input(shape=(None, n_tokens)) for i in range(3)]\n",
    "lstms = [LSTM(latent_dim, return_state=True, return_sequences=True) for i in range(3)]\n",
    "\n",
    "lstm_out, lstm_h, lstm_c = [None, None, None], [None, None, None], [None, None, None]\n",
    "for i in range(3):\n",
    "    if i > 0:\n",
    "        lstm_out[i], lstm_h[i], lstm_c[i] = lstms[i](inputs[i], initial_state=[lstm_h[i-1], lstm_c[i-1]])\n",
    "    else:\n",
    "        lstm_out[i], lstm_h[i], lstm_c[i] = lstms[i](inputs[i])\n",
    "        \n",
    "denses = [Dense(n_tokens, activation='softmax') for i in range(3)]\n",
    "outputs = [denses[i](lstm_out[i]) for i in range(3)]\n",
    "\n",
    "model = Model(inputs, outputs)\n",
    "model.compile(optimizer='rmsprop', loss='categorical_crossentropy')\n",
    "model.summary(line_length=200)"
   ]
  },
  {
   "cell_type": "code",
   "execution_count": 5,
   "metadata": {
    "scrolled": true
   },
   "outputs": [
    {
     "name": "stdout",
     "output_type": "stream",
     "text": [
      "Epoch 1/20\n",
      "20000/20000 [==============================] - 13s 641us/step - loss: 5.4413 - dense_1_loss: 2.0439 - dense_2_loss: 1.7076 - dense_3_loss: 1.6898\n",
      "Epoch 2/20\n",
      "20000/20000 [==============================] - 10s 520us/step - loss: 1.1170 - dense_1_loss: 0.5336 - dense_2_loss: 0.3160 - dense_3_loss: 0.2674\n",
      "Epoch 3/20\n",
      "20000/20000 [==============================] - 10s 514us/step - loss: 0.6773 - dense_1_loss: 0.2698 - dense_2_loss: 0.2066 - dense_3_loss: 0.2009\n",
      "Epoch 4/20\n",
      "20000/20000 [==============================] - 10s 517us/step - loss: 0.6070 - dense_1_loss: 0.2238 - dense_2_loss: 0.1936 - dense_3_loss: 0.1896\n",
      "Epoch 5/20\n",
      "20000/20000 [==============================] - 10s 513us/step - loss: 0.5838 - dense_1_loss: 0.2119 - dense_2_loss: 0.1879 - dense_3_loss: 0.1840\n",
      "Epoch 6/20\n",
      "20000/20000 [==============================] - 10s 513us/step - loss: 0.5685 - dense_1_loss: 0.2051 - dense_2_loss: 0.1839 - dense_3_loss: 0.1796\n",
      "Epoch 7/20\n",
      "20000/20000 [==============================] - 10s 503us/step - loss: 0.5582 - dense_1_loss: 0.2013 - dense_2_loss: 0.1814 - dense_3_loss: 0.1755\n",
      "Epoch 8/20\n",
      "20000/20000 [==============================] - 10s 520us/step - loss: 0.5490 - dense_1_loss: 0.1992 - dense_2_loss: 0.1787 - dense_3_loss: 0.1711\n",
      "Epoch 9/20\n",
      "20000/20000 [==============================] - 10s 512us/step - loss: 0.5391 - dense_1_loss: 0.1960 - dense_2_loss: 0.1774 - dense_3_loss: 0.1657\n",
      "Epoch 10/20\n",
      "20000/20000 [==============================] - 10s 516us/step - loss: 0.5273 - dense_1_loss: 0.1935 - dense_2_loss: 0.1758 - dense_3_loss: 0.1581\n",
      "Epoch 11/20\n",
      "20000/20000 [==============================] - 10s 517us/step - loss: 0.5127 - dense_1_loss: 0.1925 - dense_2_loss: 0.1737 - dense_3_loss: 0.1466\n",
      "Epoch 12/20\n",
      "20000/20000 [==============================] - 10s 516us/step - loss: 0.4956 - dense_1_loss: 0.1908 - dense_2_loss: 0.1726 - dense_3_loss: 0.1322\n",
      "Epoch 13/20\n",
      "20000/20000 [==============================] - 10s 513us/step - loss: 0.4743 - dense_1_loss: 0.1889 - dense_2_loss: 0.1715 - dense_3_loss: 0.1139\n",
      "Epoch 14/20\n",
      "20000/20000 [==============================] - 10s 508us/step - loss: 0.4530 - dense_1_loss: 0.1878 - dense_2_loss: 0.1709 - dense_3_loss: 0.0943\n",
      "Epoch 15/20\n",
      "20000/20000 [==============================] - 10s 519us/step - loss: 0.4318 - dense_1_loss: 0.1865 - dense_2_loss: 0.1702 - dense_3_loss: 0.0751\n",
      "Epoch 16/20\n",
      "20000/20000 [==============================] - 10s 520us/step - loss: 0.4166 - dense_1_loss: 0.1860 - dense_2_loss: 0.1700 - dense_3_loss: 0.0606\n",
      "Epoch 17/20\n",
      "20000/20000 [==============================] - 10s 513us/step - loss: 0.4036 - dense_1_loss: 0.1842 - dense_2_loss: 0.1692 - dense_3_loss: 0.0503\n",
      "Epoch 18/20\n",
      "20000/20000 [==============================] - 10s 517us/step - loss: 0.3965 - dense_1_loss: 0.1841 - dense_2_loss: 0.1690 - dense_3_loss: 0.0434\n",
      "Epoch 19/20\n",
      "20000/20000 [==============================] - 10s 514us/step - loss: 0.3907 - dense_1_loss: 0.1831 - dense_2_loss: 0.1687 - dense_3_loss: 0.0389\n",
      "Epoch 20/20\n",
      "20000/20000 [==============================] - 10s 502us/step - loss: 0.3860 - dense_1_loss: 0.1826 - dense_2_loss: 0.1687 - dense_3_loss: 0.0347\n"
     ]
    },
    {
     "data": {
      "text/plain": [
       "<keras.callbacks.History at 0x7fa11d219550>"
      ]
     },
     "execution_count": 5,
     "metadata": {},
     "output_type": "execute_result"
    }
   ],
   "source": [
    "model.fit([X[:,0,:], X[:,1,:], X[:,2,:]], [Y[:,0,:], Y[:,1,:], Y[:,2,:]], batch_size=64, epochs=20)"
   ]
  },
  {
   "cell_type": "code",
   "execution_count": 7,
   "metadata": {},
   "outputs": [
    {
     "name": "stdout",
     "output_type": "stream",
     "text": [
      "Epoch 1/10\n",
      "20000/20000 [==============================] - 6s 283us/step - loss: 0.3701 - dense_1_loss: 0.1784 - dense_2_loss: 0.1651 - dense_3_loss: 0.0266\n",
      "Epoch 2/10\n",
      "20000/20000 [==============================] - 6s 282us/step - loss: 0.3663 - dense_1_loss: 0.1783 - dense_2_loss: 0.1652 - dense_3_loss: 0.0229\n",
      "Epoch 3/10\n",
      "20000/20000 [==============================] - 6s 276us/step - loss: 0.3628 - dense_1_loss: 0.1781 - dense_2_loss: 0.1648 - dense_3_loss: 0.0198\n",
      "Epoch 4/10\n",
      "20000/20000 [==============================] - 5s 271us/step - loss: 0.3612 - dense_1_loss: 0.1777 - dense_2_loss: 0.1648 - dense_3_loss: 0.0188\n",
      "Epoch 5/10\n",
      "20000/20000 [==============================] - 6s 287us/step - loss: 0.3597 - dense_1_loss: 0.1779 - dense_2_loss: 0.1644 - dense_3_loss: 0.0174\n",
      "Epoch 6/10\n",
      "20000/20000 [==============================] - 6s 281us/step - loss: 0.3582 - dense_1_loss: 0.1778 - dense_2_loss: 0.1642 - dense_3_loss: 0.0162\n",
      "Epoch 7/10\n",
      "20000/20000 [==============================] - 6s 282us/step - loss: 0.3571 - dense_1_loss: 0.1776 - dense_2_loss: 0.1642 - dense_3_loss: 0.0154\n",
      "Epoch 8/10\n",
      "20000/20000 [==============================] - 6s 278us/step - loss: 0.3557 - dense_1_loss: 0.1772 - dense_2_loss: 0.1639 - dense_3_loss: 0.0146\n",
      "Epoch 9/10\n",
      "20000/20000 [==============================] - 6s 280us/step - loss: 0.3550 - dense_1_loss: 0.1771 - dense_2_loss: 0.1639 - dense_3_loss: 0.0139\n",
      "Epoch 10/10\n",
      "20000/20000 [==============================] - 5s 271us/step - loss: 0.3542 - dense_1_loss: 0.1772 - dense_2_loss: 0.1634 - dense_3_loss: 0.0136\n"
     ]
    },
    {
     "data": {
      "text/plain": [
       "<keras.callbacks.History at 0x7fa1107eee80>"
      ]
     },
     "execution_count": 7,
     "metadata": {},
     "output_type": "execute_result"
    }
   ],
   "source": [
    "model.fit([X[:,0,:], X[:,1,:], X[:,2,:]], [Y[:,0,:], Y[:,1,:], Y[:,2,:]], batch_size=128, epochs=10)"
   ]
  },
  {
   "cell_type": "code",
   "execution_count": 8,
   "metadata": {},
   "outputs": [
    {
     "name": "stdout",
     "output_type": "stream",
     "text": [
      "Epoch 1/10\n",
      "20000/20000 [==============================] - 6s 281us/step - loss: 0.3536 - dense_1_loss: 0.1770 - dense_2_loss: 0.1632 - dense_3_loss: 0.0134\n",
      "Epoch 2/10\n",
      "20000/20000 [==============================] - 6s 304us/step - loss: 0.3524 - dense_1_loss: 0.1769 - dense_2_loss: 0.1633 - dense_3_loss: 0.0123\n",
      "Epoch 3/10\n",
      "20000/20000 [==============================] - 6s 283us/step - loss: 0.3527 - dense_1_loss: 0.1767 - dense_2_loss: 0.1630 - dense_3_loss: 0.0130\n",
      "Epoch 4/10\n",
      "20000/20000 [==============================] - 6s 283us/step - loss: 0.3516 - dense_1_loss: 0.1766 - dense_2_loss: 0.1629 - dense_3_loss: 0.0120\n",
      "Epoch 5/10\n",
      "20000/20000 [==============================] - 6s 280us/step - loss: 0.3513 - dense_1_loss: 0.1765 - dense_2_loss: 0.1628 - dense_3_loss: 0.0120\n",
      "Epoch 6/10\n",
      "20000/20000 [==============================] - 6s 284us/step - loss: 0.3513 - dense_1_loss: 0.1766 - dense_2_loss: 0.1627 - dense_3_loss: 0.0120\n",
      "Epoch 7/10\n",
      "20000/20000 [==============================] - 6s 287us/step - loss: 0.3504 - dense_1_loss: 0.1763 - dense_2_loss: 0.1624 - dense_3_loss: 0.0117\n",
      "Epoch 8/10\n",
      "20000/20000 [==============================] - 6s 282us/step - loss: 0.3495 - dense_1_loss: 0.1761 - dense_2_loss: 0.1619 - dense_3_loss: 0.0115\n",
      "Epoch 9/10\n",
      "20000/20000 [==============================] - 6s 289us/step - loss: 0.3501 - dense_1_loss: 0.1764 - dense_2_loss: 0.1623 - dense_3_loss: 0.0115\n",
      "Epoch 10/10\n",
      "20000/20000 [==============================] - 6s 282us/step - loss: 0.3501 - dense_1_loss: 0.1764 - dense_2_loss: 0.1621 - dense_3_loss: 0.0116\n"
     ]
    },
    {
     "data": {
      "text/plain": [
       "<keras.callbacks.History at 0x7fa1107ee588>"
      ]
     },
     "execution_count": 8,
     "metadata": {},
     "output_type": "execute_result"
    }
   ],
   "source": [
    "model.fit([X[:,0,:], X[:,1,:], X[:,2,:]], [Y[:,0,:], Y[:,1,:], Y[:,2,:]], batch_size=128, epochs=10)"
   ]
  },
  {
   "cell_type": "code",
   "execution_count": 9,
   "metadata": {},
   "outputs": [],
   "source": [
    "generator_inputs = [Input(shape=(None, n_tokens), batch_shape=(1,None,n_tokens))]\n",
    "generator_lstms = [LSTM(latent_dim, return_state=True, return_sequences=True, stateful=True)]\n",
    "generator_lstm_out, generator_lstm_h, generator_lstm_c = [None, None, None], [None, None, None], [None, None, None]\n",
    "generator_lstm_out[0], generator_lstm_h[0], generator_lstm_c[0] = generator_lstms[0](\n",
    "    generator_inputs[0]\n",
    ")\n",
    "generator_denses = [Dense(n_tokens, activation='softmax')]\n",
    "generator_outputs = [generator_denses[0](generator_lstm_out[0])]"
   ]
  },
  {
   "cell_type": "code",
   "execution_count": 10,
   "metadata": {},
   "outputs": [
    {
     "name": "stdout",
     "output_type": "stream",
     "text": [
      "_________________________________________________________________\n",
      "Layer (type)                 Output Shape              Param #   \n",
      "=================================================================\n",
      "input_4 (InputLayer)         (1, None, 61)             0         \n",
      "_________________________________________________________________\n",
      "lstm_4 (LSTM)                [(1, None, 512), (1, 512) 1175552   \n",
      "_________________________________________________________________\n",
      "dense_4 (Dense)              (1, None, 61)             31293     \n",
      "=================================================================\n",
      "Total params: 1,206,845\n",
      "Trainable params: 1,206,845\n",
      "Non-trainable params: 0\n",
      "_________________________________________________________________\n"
     ]
    }
   ],
   "source": [
    "generator_model_line0 = Model(generator_inputs[0], [generator_outputs[0], generator_lstm_h[0], generator_lstm_c[0]])\n",
    "generator_model_line0.summary()"
   ]
  },
  {
   "cell_type": "code",
   "execution_count": 11,
   "metadata": {},
   "outputs": [],
   "source": [
    "generator_lstms[0].set_weights(lstms[0].get_weights())\n",
    "generator_denses[0].set_weights(denses[0].get_weights())"
   ]
  },
  {
   "cell_type": "code",
   "execution_count": 23,
   "metadata": {},
   "outputs": [
    {
     "data": {
      "text/plain": [
       "[44, 44, 43, 42, 60]"
      ]
     },
     "execution_count": 23,
     "metadata": {},
     "output_type": "execute_result"
    }
   ],
   "source": [
    "generator_model_line0.reset_states()\n",
    "line = [44]\n",
    "\n",
    "def f():\n",
    "    while line[-1] != 60:\n",
    "        yield np_utils.to_categorical(line[-1], num_classes=n_tokens).reshape((1,1,-1))\n",
    "        \n",
    "while line[-1] != 60:\n",
    "    character, h, c = generator_model_line0.predict_generator(f(), steps=1)\n",
    "    line.append(np.argmax(character))\n",
    "    \n",
    "line"
   ]
  },
  {
   "cell_type": "code",
   "execution_count": 13,
   "metadata": {},
   "outputs": [
    {
     "name": "stdout",
     "output_type": "stream",
     "text": [
      "__________________________________________________________________________________________________\n",
      "Layer (type)                    Output Shape         Param #     Connected to                     \n",
      "==================================================================================================\n",
      "input_7 (InputLayer)            (1, None, 61)        0                                            \n",
      "__________________________________________________________________________________________________\n",
      "input_5 (InputLayer)            (None, 512)          0                                            \n",
      "__________________________________________________________________________________________________\n",
      "input_6 (InputLayer)            (None, 512)          0                                            \n",
      "__________________________________________________________________________________________________\n",
      "lstm_5 (LSTM)                   [(1, None, 512), (1, 1175552     input_7[0][0]                    \n",
      "                                                                 input_5[0][0]                    \n",
      "                                                                 input_6[0][0]                    \n",
      "__________________________________________________________________________________________________\n",
      "dense_5 (Dense)                 (1, None, 61)        31293       lstm_5[0][0]                     \n",
      "==================================================================================================\n",
      "Total params: 1,206,845\n",
      "Trainable params: 1,206,845\n",
      "Non-trainable params: 0\n",
      "__________________________________________________________________________________________________\n"
     ]
    }
   ],
   "source": [
    "generator_inputs_h = [None, Input(shape=(latent_dim,))]\n",
    "generator_inputs_c = [None, Input(shape=(latent_dim,))]\n",
    "\n",
    "generator_inputs.append(Input(shape=(None, n_tokens), batch_shape=(1,None,n_tokens)))\n",
    "generator_lstms.append(LSTM(latent_dim, return_state=True, return_sequences=True, stateful=True))\n",
    "\n",
    "generator_lstm_out[1], generator_lstm_h[1], generator_lstm_c[1] = generator_lstms[1](\n",
    "    generator_inputs[1], initial_state=[generator_inputs_h[1], generator_inputs_c[1]]\n",
    ")\n",
    "generator_denses.append(Dense(n_tokens, activation='softmax'))\n",
    "generator_outputs.append(generator_denses[1](generator_lstm_out[1]))\n",
    "\n",
    "generator_model_line1 = Model(\n",
    "    [generator_inputs[1], generator_inputs_h[1], generator_inputs_c[1]],\n",
    "    [generator_outputs[1], generator_lstm_h[1], generator_lstm_c[1]]\n",
    ")\n",
    "generator_model_line1.summary()"
   ]
  },
  {
   "cell_type": "code",
   "execution_count": 14,
   "metadata": {},
   "outputs": [],
   "source": [
    "generator_lstms[1].set_weights(lstms[1].get_weights())\n",
    "generator_denses[1].set_weights(denses[1].get_weights())"
   ]
  },
  {
   "cell_type": "code",
   "execution_count": 24,
   "metadata": {},
   "outputs": [
    {
     "data": {
      "text/plain": [
       "[20, 20, 19, 18, 60]"
      ]
     },
     "execution_count": 24,
     "metadata": {},
     "output_type": "execute_result"
    }
   ],
   "source": [
    "#generator_model_line1.reset_states()\n",
    "#generator_line1_lstm.reset_states()\n",
    "#generator_lstms[1].reset_states()\n",
    "line = [20]\n",
    "#h = np.array([np.zeros(256)])\n",
    "#c = np.array([np.zeros(256)])\n",
    "\n",
    "def f():\n",
    "    while line[-1] != 60:\n",
    "        yield [np_utils.to_categorical(line[-1], num_classes=n_tokens).reshape((1,1,-1)), h, c]\n",
    "        \n",
    "while line[-1] != 60:\n",
    "    character, h, c = generator_model_line1.predict_generator(f(), steps=1)\n",
    "    line.append(np.argmax(character))\n",
    "    \n",
    "line"
   ]
  },
  {
   "cell_type": "code",
   "execution_count": null,
   "metadata": {
    "collapsed": true
   },
   "outputs": [],
   "source": []
  }
 ],
 "metadata": {
  "kernelspec": {
   "display_name": "Python 3",
   "language": "python",
   "name": "python3"
  },
  "language_info": {
   "codemirror_mode": {
    "name": "ipython",
    "version": 3
   },
   "file_extension": ".py",
   "mimetype": "text/x-python",
   "name": "python",
   "nbconvert_exporter": "python",
   "pygments_lexer": "ipython3",
   "version": "3.5.2"
  }
 },
 "nbformat": 4,
 "nbformat_minor": 2
}
