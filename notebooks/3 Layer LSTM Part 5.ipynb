{
 "cells": [
  {
   "cell_type": "code",
   "execution_count": 1,
   "metadata": {},
   "outputs": [
    {
     "name": "stderr",
     "output_type": "stream",
     "text": [
      "Using TensorFlow backend.\n"
     ]
    }
   ],
   "source": [
    "import keras\n",
    "import pandas as pd\n",
    "import numpy as np\n",
    "from keras.models import Sequential\n",
    "from keras.layers import Dense\n",
    "from keras.layers import Dropout\n",
    "from keras.layers import LSTM\n",
    "from keras.callbacks import ModelCheckpoint\n",
    "from keras.utils import np_utils\n",
    "from keras.layers import Dense, Dropout, LSTM, Embedding, Reshape, Input, InputLayer, Concatenate, Lambda\n",
    "from keras.preprocessing.sequence import pad_sequences\n",
    "from keras.models import Sequential, Model\n",
    "from keras import backend as K"
   ]
  },
  {
   "cell_type": "code",
   "execution_count": 2,
   "metadata": {
    "collapsed": true
   },
   "outputs": [],
   "source": [
    "n_samples = 20000\n",
    "sample_inputs = []\n",
    "sample_outputs = []\n",
    "n_tokens = 61\n",
    "\n",
    "patterns = [\n",
    "    lambda i,l: list(range(i, i+l)),\n",
    "    lambda i,l: list(range(i, i-l, -1))\n",
    "]\n",
    "\n",
    "for n in range(n_samples):\n",
    "    sample_in = []\n",
    "    sample_out = []\n",
    "    for line_number,length in enumerate([5,7,5]):\n",
    "        i = np.random.randint(10,50)\n",
    "        #line = list(range(i, i+3))\n",
    "        pattern = np.random.randint(len(patterns))\n",
    "        line = patterns[pattern](i,length)\n",
    "        '''if line_number == 0:\n",
    "            sample_in.append([line[0]] + line)\n",
    "        else:\n",
    "            sample_in.append([0] + line)'''\n",
    "        \n",
    "        sample_in.append([line[0]] + line + [60]*(9-length))\n",
    "            \n",
    "        sample_out.append(line + [60]*(10-length))\n",
    "        \n",
    "        \n",
    "        #sample.append(np.arange(i, i+3))\n",
    "    #samples.append(sample)\n",
    "    sample_inputs.append(sample_in)\n",
    "    sample_outputs.append(sample_out)\n",
    "    \n",
    "X = np_utils.to_categorical(sample_inputs, num_classes=n_tokens)\n",
    "Y = np_utils.to_categorical(sample_outputs, num_classes=n_tokens)"
   ]
  },
  {
   "cell_type": "code",
   "execution_count": 3,
   "metadata": {},
   "outputs": [
    {
     "name": "stdout",
     "output_type": "stream",
     "text": [
      "________________________________________________________________________________________________________________________________________________________________________________________________________\n",
      "Layer (type)                                                      Output Shape                                Param #                 Connected to                                                      \n",
      "========================================================================================================================================================================================================\n",
      "input_1 (InputLayer)                                              (None, None, 61)                            0                                                                                         \n",
      "________________________________________________________________________________________________________________________________________________________________________________________________________\n",
      "lstm_1 (LSTM)                                                     [(None, None, 128), (None, 128), (None, 128 97280                   input_1[0][0]                                                     \n",
      "________________________________________________________________________________________________________________________________________________________________________________________________________\n",
      "input_2 (InputLayer)                                              (None, None, 61)                            0                                                                                         \n",
      "________________________________________________________________________________________________________________________________________________________________________________________________________\n",
      "lstm_2 (LSTM)                                                     [(None, None, 128), (None, 128), (None, 128 97280                   input_2[0][0]                                                     \n",
      "                                                                                                                                      lstm_1[0][1]                                                      \n",
      "                                                                                                                                      lstm_1[0][2]                                                      \n",
      "________________________________________________________________________________________________________________________________________________________________________________________________________\n",
      "input_3 (InputLayer)                                              (None, None, 61)                            0                                                                                         \n",
      "________________________________________________________________________________________________________________________________________________________________________________________________________\n",
      "lstm_3 (LSTM)                                                     [(None, None, 128), (None, 128), (None, 128 97280                   input_3[0][0]                                                     \n",
      "                                                                                                                                      lstm_2[0][1]                                                      \n",
      "                                                                                                                                      lstm_2[0][2]                                                      \n",
      "________________________________________________________________________________________________________________________________________________________________________________________________________\n",
      "dense_1 (Dense)                                                   (None, None, 61)                            7869                    lstm_1[0][0]                                                      \n",
      "________________________________________________________________________________________________________________________________________________________________________________________________________\n",
      "dense_2 (Dense)                                                   (None, None, 61)                            7869                    lstm_2[0][0]                                                      \n",
      "________________________________________________________________________________________________________________________________________________________________________________________________________\n",
      "dense_3 (Dense)                                                   (None, None, 61)                            7869                    lstm_3[0][0]                                                      \n",
      "________________________________________________________________________________________________________________________________________________________________________________________________________\n",
      "lambda_1 (Lambda)                                                 (None, 1)                                   0                       dense_1[0][0]                                                     \n",
      "                                                                                                                                      dense_2[0][0]                                                     \n",
      "                                                                                                                                      dense_3[0][0]                                                     \n",
      "========================================================================================================================================================================================================\n",
      "Total params: 315,447\n",
      "Trainable params: 315,447\n",
      "Non-trainable params: 0\n",
      "________________________________________________________________________________________________________________________________________________________________________________________________________\n"
     ]
    }
   ],
   "source": [
    "latent_dim = 128\n",
    "\n",
    "# Keras Model\n",
    "\n",
    "inputs = [Input(shape=(None, n_tokens)) for i in range(3)]\n",
    "lstms = [LSTM(latent_dim, return_state=True, return_sequences=True) for i in range(3)]\n",
    "\n",
    "lstm_out, lstm_h, lstm_c = [None, None, None], [None, None, None], [None, None, None]\n",
    "for i in range(3):\n",
    "    if i > 0:\n",
    "        lstm_out[i], lstm_h[i], lstm_c[i] = lstms[i](inputs[i], initial_state=[lstm_h[i-1], lstm_c[i-1]])\n",
    "    else:\n",
    "        lstm_out[i], lstm_h[i], lstm_c[i] = lstms[i](inputs[i])\n",
    "        \n",
    "denses = [Dense(n_tokens, activation='softmax') for i in range(3)]\n",
    "outputs = [denses[i](lstm_out[i]) for i in range(3)]\n",
    "\n",
    "# Enforce number of chars per line\n",
    "counter = Lambda(lambda x: K.sum(K.cast(K.less(K.argmax(x, axis=2), 60), K.floatx()), axis=1, keepdims=True))\n",
    "counts = [counter(i) for i in outputs]\n",
    "\n",
    "model = Model(inputs, outputs + counts)\n",
    "\n",
    "# Use categorical for the character outputs and MSE for the counts\n",
    "model.compile(optimizer='rmsprop', loss=['categorical_crossentropy']*3 + ['mean_squared_error']*3)\n",
    "model.summary(line_length=200)"
   ]
  },
  {
   "cell_type": "code",
   "execution_count": 4,
   "metadata": {},
   "outputs": [
    {
     "name": "stdout",
     "output_type": "stream",
     "text": [
      "Epoch 1/20\n",
      "20000/20000 [==============================] - 8s 394us/step - loss: 31.3184 - dense_1_loss: 2.0447 - dense_2_loss: 2.6206 - dense_3_loss: 1.8829 - lambda_1_loss: 3.1475\n",
      "Epoch 2/20\n",
      "20000/20000 [==============================] - 6s 279us/step - loss: 4.9539 - dense_1_loss: 1.3332 - dense_2_loss: 1.5602 - dense_3_loss: 1.1170 - lambda_1_loss: 0.1911\n",
      "Epoch 3/20\n",
      "20000/20000 [==============================] - 6s 277us/step - loss: 2.3506 - dense_1_loss: 0.8455 - dense_2_loss: 0.7210 - dense_3_loss: 0.5416 - lambda_1_loss: 0.0721\n",
      "Epoch 4/20\n",
      "20000/20000 [==============================] - 6s 278us/step - loss: 1.1638 - dense_1_loss: 0.5065 - dense_2_loss: 0.3010 - dense_3_loss: 0.2160 - lambda_1_loss: 0.0339\n",
      "Epoch 5/20\n",
      "20000/20000 [==============================] - 6s 285us/step - loss: 0.7251 - dense_1_loss: 0.3406 - dense_2_loss: 0.1487 - dense_3_loss: 0.1157 - lambda_1_loss: 0.0370\n",
      "Epoch 6/20\n",
      "20000/20000 [==============================] - 6s 304us/step - loss: 0.5074 - dense_1_loss: 0.2512 - dense_2_loss: 0.1059 - dense_3_loss: 0.0917 - lambda_1_loss: 0.0170\n",
      "Epoch 7/20\n",
      "20000/20000 [==============================] - 6s 293us/step - loss: 0.4171 - dense_1_loss: 0.1927 - dense_2_loss: 0.0934 - dense_3_loss: 0.0838 - lambda_1_loss: 0.0119\n",
      "Epoch 8/20\n",
      "20000/20000 [==============================] - 6s 302us/step - loss: 0.3577 - dense_1_loss: 0.1458 - dense_2_loss: 0.0900 - dense_3_loss: 0.0810 - lambda_1_loss: 0.0085\n",
      "Epoch 9/20\n",
      "20000/20000 [==============================] - 6s 311us/step - loss: 0.3265 - dense_1_loss: 0.1134 - dense_2_loss: 0.0879 - dense_3_loss: 0.0786 - lambda_1_loss: 0.0088\n",
      "Epoch 10/20\n",
      "20000/20000 [==============================] - 6s 300us/step - loss: 0.2994 - dense_1_loss: 0.0951 - dense_2_loss: 0.0853 - dense_3_loss: 0.0773 - lambda_1_loss: 0.0088\n",
      "Epoch 11/20\n",
      "20000/20000 [==============================] - 6s 310us/step - loss: 0.2709 - dense_1_loss: 0.0843 - dense_2_loss: 0.0831 - dense_3_loss: 0.0751 - lambda_1_loss: 0.0000e+00\n",
      "Epoch 12/20\n",
      "20000/20000 [==============================] - 6s 316us/step - loss: 0.2460 - dense_1_loss: 0.0793 - dense_2_loss: 0.0787 - dense_3_loss: 0.0742 - lambda_1_loss: 0.0000e+00\n",
      "Epoch 13/20\n",
      "20000/20000 [==============================] - 6s 321us/step - loss: 0.2628 - dense_1_loss: 0.0779 - dense_2_loss: 0.0801 - dense_3_loss: 0.0737 - lambda_1_loss: 0.0000e+00\n",
      "Epoch 14/20\n",
      "20000/20000 [==============================] - 6s 319us/step - loss: 0.2407 - dense_1_loss: 0.0756 - dense_2_loss: 0.0768 - dense_3_loss: 0.0730 - lambda_1_loss: 0.0000e+00\n",
      "Epoch 15/20\n",
      "20000/20000 [==============================] - 7s 330us/step - loss: 0.2351 - dense_1_loss: 0.0748 - dense_2_loss: 0.0761 - dense_3_loss: 0.0727 - lambda_1_loss: 0.0000e+00\n",
      "Epoch 16/20\n",
      "20000/20000 [==============================] - 7s 330us/step - loss: 0.2337 - dense_1_loss: 0.0742 - dense_2_loss: 0.0753 - dense_3_loss: 0.0723 - lambda_1_loss: 0.0000e+00\n",
      "Epoch 17/20\n",
      "20000/20000 [==============================] - 6s 310us/step - loss: 0.2317 - dense_1_loss: 0.0740 - dense_2_loss: 0.0752 - dense_3_loss: 0.0720 - lambda_1_loss: 0.0000e+00\n",
      "Epoch 18/20\n",
      "20000/20000 [==============================] - 7s 326us/step - loss: 0.2279 - dense_1_loss: 0.0734 - dense_2_loss: 0.0744 - dense_3_loss: 0.0717 - lambda_1_loss: 0.0000e+00\n",
      "Epoch 19/20\n",
      "20000/20000 [==============================] - 7s 347us/step - loss: 0.2175 - dense_1_loss: 0.0731 - dense_2_loss: 0.0730 - dense_3_loss: 0.0714 - lambda_1_loss: 0.0000e+00\n",
      "Epoch 20/20\n",
      "20000/20000 [==============================] - 7s 327us/step - loss: 0.2167 - dense_1_loss: 0.0729 - dense_2_loss: 0.0727 - dense_3_loss: 0.0711 - lambda_1_loss: 0.0000e+00\n"
     ]
    },
    {
     "data": {
      "text/plain": [
       "<keras.callbacks.History at 0x26a39198fd0>"
      ]
     },
     "execution_count": 4,
     "metadata": {},
     "output_type": "execute_result"
    }
   ],
   "source": [
    "model.fit(\n",
    "    [X[:,0,:], X[:,1,:], X[:,2,:]], \n",
    "    [\n",
    "        Y[:,0,:], Y[:,1,:], Y[:,2,:], \n",
    "        np.ones(n_samples)*5, np.ones(n_samples)*7,  np.ones(n_samples)*5\n",
    "    ],\n",
    "    batch_size=128, epochs=20\n",
    ")"
   ]
  },
  {
   "cell_type": "code",
   "execution_count": 5,
   "metadata": {},
   "outputs": [
    {
     "name": "stdout",
     "output_type": "stream",
     "text": [
      "_________________________________________________________________\n",
      "Layer (type)                 Output Shape              Param #   \n",
      "=================================================================\n",
      "input_4 (InputLayer)         (1, None, 61)             0         \n",
      "_________________________________________________________________\n",
      "lstm_4 (LSTM)                [(1, None, 128), (1, 128) 97280     \n",
      "_________________________________________________________________\n",
      "dense_4 (Dense)              (1, None, 61)             7869      \n",
      "=================================================================\n",
      "Total params: 105,149\n",
      "Trainable params: 105,149\n",
      "Non-trainable params: 0\n",
      "_________________________________________________________________\n"
     ]
    }
   ],
   "source": [
    "generator_inputs = [Input(shape=(None, n_tokens), batch_shape=(1,None,n_tokens)) for i in range(3)]\n",
    "generator_lstms = [LSTM(latent_dim, return_state=True, return_sequences=True, stateful=True) for i in range(3)]\n",
    "generator_lstm_out, generator_lstm_h, generator_lstm_c = [None, None, None], [None, None, None], [None, None, None]\n",
    "generator_denses = [Dense(n_tokens, activation='softmax') for i in range(3)]\n",
    "\n",
    "# Hook up line 0\n",
    "generator_lstm_out[0], generator_lstm_h[0], generator_lstm_c[0] = generator_lstms[0](\n",
    "    generator_inputs[0]\n",
    ")\n",
    "generator_outputs = [generator_denses[0](generator_lstm_out[0])]\n",
    "generator_models = [Model(generator_inputs[0], [generator_outputs[0], generator_lstm_h[0], generator_lstm_c[0]])]\n",
    "\n",
    "# Set weights for line 0\n",
    "generator_lstms[0].set_weights(lstms[0].get_weights())\n",
    "generator_denses[0].set_weights(denses[0].get_weights())\n",
    "\n",
    "generator_models[0].summary()"
   ]
  },
  {
   "cell_type": "code",
   "execution_count": 6,
   "metadata": {
    "collapsed": true
   },
   "outputs": [],
   "source": [
    "generator_inputs_h = [None, Input(shape=(latent_dim,)), Input(shape=(latent_dim,))]\n",
    "generator_inputs_c = [None, Input(shape=(latent_dim,)), Input(shape=(latent_dim,))]\n",
    "\n",
    "#generator_inputs.append(Input(shape=(None, n_tokens), batch_shape=(1,None,n_tokens)))\n",
    "#generator_lstms.append(LSTM(latent_dim, return_state=True, return_sequences=True, stateful=True))\n",
    "\n",
    "\n",
    "# Hook up lines 1 and 2\n",
    "for i in [1, 2]:\n",
    "    generator_lstm_out[i], generator_lstm_h[i], generator_lstm_c[i] = generator_lstms[i](\n",
    "        generator_inputs[i], initial_state=[generator_inputs_h[i], generator_inputs_c[i]]\n",
    "    )\n",
    "    generator_outputs.append(generator_denses[i](generator_lstm_out[i]))\n",
    "#generator_denses.append(Dense(n_tokens, activation='softmax'))\n",
    "\n",
    "    generator_models.append(Model(\n",
    "        [generator_inputs[i], generator_inputs_h[i], generator_inputs_c[i]],\n",
    "        [generator_outputs[i], generator_lstm_h[i], generator_lstm_c[i]]\n",
    "    ))\n",
    "\n",
    "    generator_lstms[i].set_weights(lstms[i].get_weights())\n",
    "    generator_denses[i].set_weights(denses[i].get_weights())\n",
    "\n",
    "#generator_model_line1.summary()"
   ]
  },
  {
   "cell_type": "code",
   "execution_count": 13,
   "metadata": {},
   "outputs": [
    {
     "name": "stdout",
     "output_type": "stream",
     "text": [
      "[36, 37, 38, 39, 40]\n",
      "[13, 14, 15, 16, 17, 18, 19]\n",
      "[48, 47, 46, 45, 44]\n"
     ]
    }
   ],
   "source": [
    "h,c = None, None\n",
    "generator_models[0].reset_states()\n",
    "for i in range(3):\n",
    "    line = [np.random.randint(10,50)]\n",
    "    \n",
    "    def f():\n",
    "        while True:\n",
    "            if i > 0:\n",
    "                yield [np_utils.to_categorical(line[-1], num_classes=n_tokens).reshape((1,1,-1)), h, c]\n",
    "            else:\n",
    "                yield np_utils.to_categorical(line[-1], num_classes=n_tokens).reshape((1,1,-1))\n",
    "        \n",
    "    while len(line) < 10:\n",
    "        character, h, c = generator_models[i].predict_generator(f(), steps=1)\n",
    "        line.append(np.argmax(character))\n",
    "        \n",
    "    print(line[1:line.index(60)])"
   ]
  },
  {
   "cell_type": "code",
   "execution_count": null,
   "metadata": {
    "collapsed": true
   },
   "outputs": [],
   "source": []
  }
 ],
 "metadata": {
  "kernelspec": {
   "display_name": "Python 3",
   "language": "python",
   "name": "python3"
  },
  "language_info": {
   "codemirror_mode": {
    "name": "ipython",
    "version": 3
   },
   "file_extension": ".py",
   "mimetype": "text/x-python",
   "name": "python",
   "nbconvert_exporter": "python",
   "pygments_lexer": "ipython3",
   "version": "3.5.4"
  }
 },
 "nbformat": 4,
 "nbformat_minor": 2
}
