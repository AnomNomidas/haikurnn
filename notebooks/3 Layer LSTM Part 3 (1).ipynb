{
 "cells": [
  {
   "cell_type": "code",
   "execution_count": 1,
   "metadata": {},
   "outputs": [
    {
     "name": "stderr",
     "output_type": "stream",
     "text": [
      "/usr/local/lib/python3.5/dist-packages/h5py/__init__.py:36: FutureWarning: Conversion of the second argument of issubdtype from `float` to `np.floating` is deprecated. In future, it will be treated as `np.float64 == np.dtype(float).type`.\n",
      "  from ._conv import register_converters as _register_converters\n",
      "Using TensorFlow backend.\n"
     ]
    }
   ],
   "source": [
    "import keras\n",
    "import pandas as pd\n",
    "import numpy as np\n",
    "from keras.models import Sequential\n",
    "from keras.layers import Dense\n",
    "from keras.layers import Dropout\n",
    "from keras.layers import LSTM\n",
    "from keras.callbacks import ModelCheckpoint\n",
    "from keras.utils import np_utils\n",
    "from keras.layers import Dense, Dropout, LSTM, Embedding, Reshape, Input, InputLayer, Concatenate\n",
    "from keras.preprocessing.sequence import pad_sequences\n",
    "from keras.models import Sequential, Model"
   ]
  },
  {
   "cell_type": "code",
   "execution_count": 30,
   "metadata": {},
   "outputs": [
    {
     "data": {
      "text/plain": [
       "array([1, 0, 0, 1, 0, 0, 1, 0, 0, 1])"
      ]
     },
     "execution_count": 30,
     "metadata": {},
     "output_type": "execute_result"
    }
   ],
   "source": [
    "np.random.randint(len(patterns), size=10)"
   ]
  },
  {
   "cell_type": "code",
   "execution_count": 28,
   "metadata": {},
   "outputs": [
    {
     "data": {
      "text/plain": [
       "[10, 9, 8]"
      ]
     },
     "execution_count": 28,
     "metadata": {},
     "output_type": "execute_result"
    }
   ],
   "source": [
    "list(range(10,7,-1))"
   ]
  },
  {
   "cell_type": "code",
   "execution_count": 2,
   "metadata": {},
   "outputs": [],
   "source": [
    "n_samples = 20000\n",
    "sample_inputs = []\n",
    "sample_outputs = []\n",
    "n_tokens = 61\n",
    "\n",
    "patterns = [\n",
    "    lambda i: list(range(i, i+3)),\n",
    "    lambda i: list(range(i, i-3, -1))\n",
    "]\n",
    "\n",
    "for n in range(n_samples):\n",
    "    sample_in = []\n",
    "    sample_out = []\n",
    "    for line_number in range(3):\n",
    "        i = np.random.randint(10,50)\n",
    "        #line = list(range(i, i+3))\n",
    "        pattern = np.random.randint(len(patterns))\n",
    "        line = patterns[pattern](i)\n",
    "        if line_number == 0:\n",
    "            sample_in.append([line[0]] + line)\n",
    "        else:\n",
    "            sample_in.append([0] + line)\n",
    "            \n",
    "        sample_out.append(line + [60])\n",
    "        \n",
    "        \n",
    "        #sample.append(np.arange(i, i+3))\n",
    "    #samples.append(sample)\n",
    "    sample_inputs.append(sample_in)\n",
    "    sample_outputs.append(sample_out)\n",
    "    \n",
    "X = np_utils.to_categorical(sample_inputs, num_classes=n_tokens)\n",
    "Y = np_utils.to_categorical(sample_outputs, num_classes=n_tokens)"
   ]
  },
  {
   "cell_type": "code",
   "execution_count": 32,
   "metadata": {},
   "outputs": [
    {
     "data": {
      "text/plain": [
       "[[[31, 31, 32, 33], [0, 27, 28, 29], [0, 20, 21, 22]],\n",
       " [[16, 16, 17, 18], [0, 42, 41, 40], [0, 30, 31, 32]],\n",
       " [[10, 10, 9, 8], [0, 31, 30, 29], [0, 22, 21, 20]],\n",
       " [[48, 48, 47, 46], [0, 34, 33, 32], [0, 45, 46, 47]],\n",
       " [[23, 23, 22, 21], [0, 13, 12, 11], [0, 41, 40, 39]],\n",
       " [[32, 32, 31, 30], [0, 25, 24, 23], [0, 49, 50, 51]],\n",
       " [[15, 15, 14, 13], [0, 14, 15, 16], [0, 44, 43, 42]],\n",
       " [[16, 16, 15, 14], [0, 41, 40, 39], [0, 22, 23, 24]],\n",
       " [[39, 39, 40, 41], [0, 44, 43, 42], [0, 45, 46, 47]],\n",
       " [[44, 44, 43, 42], [0, 49, 50, 51], [0, 42, 43, 44]]]"
      ]
     },
     "execution_count": 32,
     "metadata": {},
     "output_type": "execute_result"
    }
   ],
   "source": [
    "sample_inputs[:10]"
   ]
  },
  {
   "cell_type": "code",
   "execution_count": 3,
   "metadata": {},
   "outputs": [
    {
     "name": "stdout",
     "output_type": "stream",
     "text": [
      "________________________________________________________________________________________________________________________________________________________________________________________________________\n",
      "Layer (type)                                                      Output Shape                                Param #                 Connected to                                                      \n",
      "========================================================================================================================================================================================================\n",
      "input_1 (InputLayer)                                              (None, None, 61)                            0                                                                                         \n",
      "________________________________________________________________________________________________________________________________________________________________________________________________________\n",
      "lstm_1 (LSTM)                                                     [(None, None, 512), (None, 512), (None, 512 1175552                 input_1[0][0]                                                     \n",
      "________________________________________________________________________________________________________________________________________________________________________________________________________\n",
      "input_2 (InputLayer)                                              (None, None, 61)                            0                                                                                         \n",
      "________________________________________________________________________________________________________________________________________________________________________________________________________\n",
      "lstm_2 (LSTM)                                                     [(None, None, 512), (None, 512), (None, 512 1175552                 input_2[0][0]                                                     \n",
      "                                                                                                                                      lstm_1[0][1]                                                      \n",
      "                                                                                                                                      lstm_1[0][2]                                                      \n",
      "________________________________________________________________________________________________________________________________________________________________________________________________________\n",
      "input_3 (InputLayer)                                              (None, None, 61)                            0                                                                                         \n",
      "________________________________________________________________________________________________________________________________________________________________________________________________________\n",
      "lstm_3 (LSTM)                                                     [(None, None, 512), (None, 512), (None, 512 1175552                 input_3[0][0]                                                     \n",
      "                                                                                                                                      lstm_2[0][1]                                                      \n",
      "                                                                                                                                      lstm_2[0][2]                                                      \n",
      "________________________________________________________________________________________________________________________________________________________________________________________________________\n",
      "dense_1 (Dense)                                                   (None, None, 61)                            31293                   lstm_1[0][0]                                                      \n",
      "________________________________________________________________________________________________________________________________________________________________________________________________________\n",
      "dense_2 (Dense)                                                   (None, None, 61)                            31293                   lstm_2[0][0]                                                      \n",
      "________________________________________________________________________________________________________________________________________________________________________________________________________\n",
      "dense_3 (Dense)                                                   (None, None, 61)                            31293                   lstm_3[0][0]                                                      \n",
      "========================================================================================================================================================================================================\n",
      "Total params: 3,620,535\n",
      "Trainable params: 3,620,535\n",
      "Non-trainable params: 0\n",
      "________________________________________________________________________________________________________________________________________________________________________________________________________\n"
     ]
    }
   ],
   "source": [
    "latent_dim = 512\n",
    "\n",
    "# Keras Model\n",
    "\n",
    "inputs = [Input(shape=(None, n_tokens)) for i in range(3)]\n",
    "lstms = [LSTM(latent_dim, return_state=True, return_sequences=True) for i in range(3)]\n",
    "\n",
    "lstm_out, lstm_h, lstm_c = [None, None, None], [None, None, None], [None, None, None]\n",
    "for i in range(3):\n",
    "    if i > 0:\n",
    "        lstm_out[i], lstm_h[i], lstm_c[i] = lstms[i](inputs[i], initial_state=[lstm_h[i-1], lstm_c[i-1]])\n",
    "    else:\n",
    "        lstm_out[i], lstm_h[i], lstm_c[i] = lstms[i](inputs[i])\n",
    "        \n",
    "denses = [Dense(n_tokens, activation='softmax') for i in range(3)]\n",
    "outputs = [denses[i](lstm_out[i]) for i in range(3)]\n",
    "\n",
    "model = Model(inputs, outputs)\n",
    "model.compile(optimizer='rmsprop', loss='categorical_crossentropy')\n",
    "model.summary(line_length=200)"
   ]
  },
  {
   "cell_type": "code",
   "execution_count": 4,
   "metadata": {
    "scrolled": true
   },
   "outputs": [
    {
     "name": "stdout",
     "output_type": "stream",
     "text": [
      "Epoch 1/20\n",
      "20000/20000 [==============================] - 22s 1ms/step - loss: 4.6532 - dense_1_loss: 1.2867 - dense_2_loss: 1.7137 - dense_3_loss: 1.6528\n",
      "Epoch 2/20\n",
      "20000/20000 [==============================] - 19s 931us/step - loss: 2.5231 - dense_1_loss: 0.2864 - dense_2_loss: 1.1208 - dense_3_loss: 1.1158\n",
      "Epoch 3/20\n",
      "20000/20000 [==============================] - 19s 935us/step - loss: 2.4388 - dense_1_loss: 0.2216 - dense_2_loss: 1.1104 - dense_3_loss: 1.1068\n",
      "Epoch 4/20\n",
      "20000/20000 [==============================] - 19s 939us/step - loss: 2.4183 - dense_1_loss: 0.2097 - dense_2_loss: 1.1065 - dense_3_loss: 1.1021\n",
      "Epoch 5/20\n",
      "20000/20000 [==============================] - 19s 929us/step - loss: 2.4021 - dense_1_loss: 0.2018 - dense_2_loss: 1.1036 - dense_3_loss: 1.0966\n",
      "Epoch 6/20\n",
      "20000/20000 [==============================] - 19s 929us/step - loss: 2.3879 - dense_1_loss: 0.1966 - dense_2_loss: 1.1016 - dense_3_loss: 1.0897\n",
      "Epoch 7/20\n",
      "20000/20000 [==============================] - 19s 934us/step - loss: 2.3713 - dense_1_loss: 0.1919 - dense_2_loss: 1.0990 - dense_3_loss: 1.0804\n",
      "Epoch 8/20\n",
      "20000/20000 [==============================] - 19s 939us/step - loss: 2.3518 - dense_1_loss: 0.1877 - dense_2_loss: 1.0977 - dense_3_loss: 1.0664\n",
      "Epoch 9/20\n",
      "20000/20000 [==============================] - 19s 938us/step - loss: 2.3271 - dense_1_loss: 0.1851 - dense_2_loss: 1.0957 - dense_3_loss: 1.0464\n",
      "Epoch 10/20\n",
      "20000/20000 [==============================] - 19s 942us/step - loss: 2.2970 - dense_1_loss: 0.1831 - dense_2_loss: 1.0936 - dense_3_loss: 1.0203\n",
      "Epoch 11/20\n",
      "20000/20000 [==============================] - 19s 942us/step - loss: 2.2619 - dense_1_loss: 0.1815 - dense_2_loss: 1.0922 - dense_3_loss: 0.9882\n",
      "Epoch 12/20\n",
      "20000/20000 [==============================] - 19s 935us/step - loss: 2.2248 - dense_1_loss: 0.1808 - dense_2_loss: 1.0899 - dense_3_loss: 0.9542\n",
      "Epoch 13/20\n",
      "20000/20000 [==============================] - 19s 939us/step - loss: 2.1860 - dense_1_loss: 0.1796 - dense_2_loss: 1.0886 - dense_3_loss: 0.9178\n",
      "Epoch 14/20\n",
      "20000/20000 [==============================] - 19s 932us/step - loss: 2.1495 - dense_1_loss: 0.1794 - dense_2_loss: 1.0874 - dense_3_loss: 0.8827\n",
      "Epoch 15/20\n",
      "20000/20000 [==============================] - 19s 937us/step - loss: 2.1112 - dense_1_loss: 0.1788 - dense_2_loss: 1.0865 - dense_3_loss: 0.8459\n",
      "Epoch 16/20\n",
      "20000/20000 [==============================] - 19s 938us/step - loss: 2.0752 - dense_1_loss: 0.1784 - dense_2_loss: 1.0852 - dense_3_loss: 0.8116\n",
      "Epoch 17/20\n",
      "20000/20000 [==============================] - 19s 938us/step - loss: 2.0437 - dense_1_loss: 0.1777 - dense_2_loss: 1.0843 - dense_3_loss: 0.7816\n",
      "Epoch 18/20\n",
      "20000/20000 [==============================] - 19s 956us/step - loss: 2.0117 - dense_1_loss: 0.1772 - dense_2_loss: 1.0829 - dense_3_loss: 0.7515\n",
      "Epoch 19/20\n",
      "20000/20000 [==============================] - 19s 955us/step - loss: 1.9831 - dense_1_loss: 0.1767 - dense_2_loss: 1.0826 - dense_3_loss: 0.7238\n",
      "Epoch 20/20\n",
      "20000/20000 [==============================] - 19s 952us/step - loss: 1.9565 - dense_1_loss: 0.1766 - dense_2_loss: 1.0821 - dense_3_loss: 0.6977\n"
     ]
    },
    {
     "data": {
      "text/plain": [
       "<keras.callbacks.History at 0x7f3294812dd8>"
      ]
     },
     "execution_count": 4,
     "metadata": {},
     "output_type": "execute_result"
    }
   ],
   "source": [
    "model.fit([X[:,0,:], X[:,1,:], X[:,2,:]], [Y[:,0,:], Y[:,1,:], Y[:,2,:]], batch_size=32, epochs=20)"
   ]
  },
  {
   "cell_type": "code",
   "execution_count": 26,
   "metadata": {},
   "outputs": [
    {
     "name": "stdout",
     "output_type": "stream",
     "text": [
      "Epoch 1/20\n",
      "20000/20000 [==============================] - 19s 934us/step - loss: 1.9330 - dense_1_loss: 0.1761 - dense_2_loss: 1.0816 - dense_3_loss: 0.6753\n",
      "Epoch 2/20\n",
      "20000/20000 [==============================] - 19s 932us/step - loss: 1.9106 - dense_1_loss: 0.1762 - dense_2_loss: 1.0808 - dense_3_loss: 0.6536\n",
      "Epoch 3/20\n",
      "20000/20000 [==============================] - 19s 955us/step - loss: 1.8908 - dense_1_loss: 0.1757 - dense_2_loss: 1.0807 - dense_3_loss: 0.6344\n",
      "Epoch 4/20\n",
      "20000/20000 [==============================] - 19s 949us/step - loss: 1.8744 - dense_1_loss: 0.1755 - dense_2_loss: 1.0800 - dense_3_loss: 0.6189\n",
      "Epoch 5/20\n",
      "20000/20000 [==============================] - 19s 953us/step - loss: 1.8591 - dense_1_loss: 0.1754 - dense_2_loss: 1.0796 - dense_3_loss: 0.6040\n",
      "Epoch 6/20\n",
      "20000/20000 [==============================] - 19s 950us/step - loss: 1.8475 - dense_1_loss: 0.1754 - dense_2_loss: 1.0802 - dense_3_loss: 0.5919\n",
      "Epoch 7/20\n",
      "20000/20000 [==============================] - 19s 952us/step - loss: 1.8342 - dense_1_loss: 0.1752 - dense_2_loss: 1.0789 - dense_3_loss: 0.5801\n",
      "Epoch 8/20\n",
      "20000/20000 [==============================] - 19s 946us/step - loss: 1.8238 - dense_1_loss: 0.1750 - dense_2_loss: 1.0793 - dense_3_loss: 0.5696\n",
      "Epoch 9/20\n",
      "20000/20000 [==============================] - 19s 953us/step - loss: 1.8149 - dense_1_loss: 0.1750 - dense_2_loss: 1.0786 - dense_3_loss: 0.5613\n",
      "Epoch 10/20\n",
      "20000/20000 [==============================] - 19s 951us/step - loss: 1.8065 - dense_1_loss: 0.1749 - dense_2_loss: 1.0784 - dense_3_loss: 0.5532\n",
      "Epoch 11/20\n",
      "20000/20000 [==============================] - 19s 965us/step - loss: 1.7989 - dense_1_loss: 0.1750 - dense_2_loss: 1.0782 - dense_3_loss: 0.5458\n",
      "Epoch 12/20\n",
      "20000/20000 [==============================] - 19s 972us/step - loss: 1.7932 - dense_1_loss: 0.1745 - dense_2_loss: 1.0778 - dense_3_loss: 0.5409\n",
      "Epoch 13/20\n",
      "20000/20000 [==============================] - 19s 959us/step - loss: 1.7869 - dense_1_loss: 0.1747 - dense_2_loss: 1.0783 - dense_3_loss: 0.5339\n",
      "Epoch 14/20\n",
      "20000/20000 [==============================] - 19s 947us/step - loss: 1.7824 - dense_1_loss: 0.1747 - dense_2_loss: 1.0776 - dense_3_loss: 0.5301\n",
      "Epoch 15/20\n",
      "20000/20000 [==============================] - 19s 947us/step - loss: 1.7764 - dense_1_loss: 0.1746 - dense_2_loss: 1.0775 - dense_3_loss: 0.5243\n",
      "Epoch 16/20\n",
      "20000/20000 [==============================] - 19s 960us/step - loss: 1.7718 - dense_1_loss: 0.1746 - dense_2_loss: 1.0772 - dense_3_loss: 0.5200\n",
      "Epoch 17/20\n",
      "20000/20000 [==============================] - 19s 953us/step - loss: 1.7682 - dense_1_loss: 0.1746 - dense_2_loss: 1.0773 - dense_3_loss: 0.5164\n",
      "Epoch 18/20\n",
      "20000/20000 [==============================] - 19s 948us/step - loss: 1.7649 - dense_1_loss: 0.1746 - dense_2_loss: 1.0775 - dense_3_loss: 0.5128\n",
      "Epoch 19/20\n",
      "20000/20000 [==============================] - 19s 959us/step - loss: 1.7609 - dense_1_loss: 0.1745 - dense_2_loss: 1.0769 - dense_3_loss: 0.5095\n",
      "Epoch 20/20\n",
      "20000/20000 [==============================] - 19s 961us/step - loss: 1.7578 - dense_1_loss: 0.1744 - dense_2_loss: 1.0765 - dense_3_loss: 0.5069\n"
     ]
    },
    {
     "data": {
      "text/plain": [
       "<keras.callbacks.History at 0x7f3268ed62b0>"
      ]
     },
     "execution_count": 26,
     "metadata": {},
     "output_type": "execute_result"
    }
   ],
   "source": [
    "model.fit([X[:,0,:], X[:,1,:], X[:,2,:]], [Y[:,0,:], Y[:,1,:], Y[:,2,:]], batch_size=32, epochs=20)"
   ]
  },
  {
   "cell_type": "code",
   "execution_count": 27,
   "metadata": {},
   "outputs": [],
   "source": [
    "generator_inputs = [Input(shape=(None, n_tokens), batch_shape=(1,None,n_tokens))]\n",
    "generator_lstms = [LSTM(latent_dim, return_state=True, return_sequences=True, stateful=True)]\n",
    "generator_lstm_out, generator_lstm_h, generator_lstm_c = [None, None, None], [None, None, None], [None, None, None]\n",
    "generator_lstm_out[0], generator_lstm_h[0], generator_lstm_c[0] = generator_lstms[0](\n",
    "    generator_inputs[0]\n",
    ")\n",
    "generator_denses = [Dense(n_tokens, activation='softmax')]\n",
    "generator_outputs = [generator_denses[0](generator_lstm_out[0])]"
   ]
  },
  {
   "cell_type": "code",
   "execution_count": 28,
   "metadata": {},
   "outputs": [
    {
     "name": "stdout",
     "output_type": "stream",
     "text": [
      "_________________________________________________________________\n",
      "Layer (type)                 Output Shape              Param #   \n",
      "=================================================================\n",
      "input_8 (InputLayer)         (1, None, 61)             0         \n",
      "_________________________________________________________________\n",
      "lstm_6 (LSTM)                [(1, None, 512), (1, 512) 1175552   \n",
      "_________________________________________________________________\n",
      "dense_6 (Dense)              (1, None, 61)             31293     \n",
      "=================================================================\n",
      "Total params: 1,206,845\n",
      "Trainable params: 1,206,845\n",
      "Non-trainable params: 0\n",
      "_________________________________________________________________\n"
     ]
    }
   ],
   "source": [
    "generator_model_line0 = Model(generator_inputs[0], [generator_outputs[0], generator_lstm_h[0], generator_lstm_c[0]])\n",
    "generator_model_line0.summary()"
   ]
  },
  {
   "cell_type": "code",
   "execution_count": 29,
   "metadata": {},
   "outputs": [],
   "source": [
    "generator_lstms[0].set_weights(lstms[0].get_weights())\n",
    "generator_denses[0].set_weights(denses[0].get_weights())"
   ]
  },
  {
   "cell_type": "code",
   "execution_count": 36,
   "metadata": {},
   "outputs": [
    {
     "data": {
      "text/plain": [
       "[42, 42, 43, 44, 60]"
      ]
     },
     "execution_count": 36,
     "metadata": {},
     "output_type": "execute_result"
    }
   ],
   "source": [
    "generator_model_line0.reset_states()\n",
    "line = [42]\n",
    "\n",
    "def f():\n",
    "    while line[-1] != 60:\n",
    "        yield np_utils.to_categorical(line[-1], num_classes=n_tokens).reshape((1,1,-1))\n",
    "        \n",
    "while line[-1] != 60:\n",
    "    character, h, c = generator_model_line0.predict_generator(f(), steps=1)\n",
    "    line.append(np.argmax(character))\n",
    "    \n",
    "line"
   ]
  },
  {
   "cell_type": "code",
   "execution_count": 31,
   "metadata": {},
   "outputs": [
    {
     "name": "stdout",
     "output_type": "stream",
     "text": [
      "__________________________________________________________________________________________________\n",
      "Layer (type)                    Output Shape         Param #     Connected to                     \n",
      "==================================================================================================\n",
      "input_11 (InputLayer)           (1, None, 61)        0                                            \n",
      "__________________________________________________________________________________________________\n",
      "input_9 (InputLayer)            (None, 512)          0                                            \n",
      "__________________________________________________________________________________________________\n",
      "input_10 (InputLayer)           (None, 512)          0                                            \n",
      "__________________________________________________________________________________________________\n",
      "lstm_7 (LSTM)                   [(1, None, 512), (1, 1175552     input_11[0][0]                   \n",
      "                                                                 input_9[0][0]                    \n",
      "                                                                 input_10[0][0]                   \n",
      "__________________________________________________________________________________________________\n",
      "dense_7 (Dense)                 (1, None, 61)        31293       lstm_7[0][0]                     \n",
      "==================================================================================================\n",
      "Total params: 1,206,845\n",
      "Trainable params: 1,206,845\n",
      "Non-trainable params: 0\n",
      "__________________________________________________________________________________________________\n"
     ]
    }
   ],
   "source": [
    "generator_inputs_h = [None, Input(shape=(latent_dim,))]\n",
    "generator_inputs_c = [None, Input(shape=(latent_dim,))]\n",
    "\n",
    "generator_inputs.append(Input(shape=(None, n_tokens), batch_shape=(1,None,n_tokens)))\n",
    "generator_lstms.append(LSTM(latent_dim, return_state=True, return_sequences=True, stateful=True))\n",
    "\n",
    "generator_lstm_out[1], generator_lstm_h[1], generator_lstm_c[1] = generator_lstms[1](\n",
    "    generator_inputs[1], initial_state=[generator_inputs_h[1], generator_inputs_c[1]]\n",
    ")\n",
    "generator_denses.append(Dense(n_tokens, activation='softmax'))\n",
    "generator_outputs.append(generator_denses[1](generator_lstm_out[1]))\n",
    "\n",
    "generator_model_line1 = Model(\n",
    "    [generator_inputs[1], generator_inputs_h[1], generator_inputs_c[1]],\n",
    "    [generator_outputs[1], generator_lstm_h[1], generator_lstm_c[1]]\n",
    ")\n",
    "generator_model_line1.summary()"
   ]
  },
  {
   "cell_type": "code",
   "execution_count": 32,
   "metadata": {},
   "outputs": [],
   "source": [
    "generator_lstms[1].set_weights(lstms[1].get_weights())\n",
    "generator_denses[1].set_weights(denses[1].get_weights())"
   ]
  },
  {
   "cell_type": "code",
   "execution_count": 37,
   "metadata": {},
   "outputs": [
    {
     "data": {
      "text/plain": [
       "[0, 11, 10, 9, 60]"
      ]
     },
     "execution_count": 37,
     "metadata": {},
     "output_type": "execute_result"
    }
   ],
   "source": [
    "#generator_model_line1.reset_states()\n",
    "#generator_line1_lstm.reset_states()\n",
    "#generator_lstms[1].reset_states()\n",
    "line = [0]\n",
    "#h = np.array([np.zeros(256)])\n",
    "#c = np.array([np.zeros(256)])\n",
    "\n",
    "def f():\n",
    "    while line[-1] != 60:\n",
    "        yield [np_utils.to_categorical(line[-1], num_classes=n_tokens).reshape((1,1,-1)), h, c]\n",
    "        \n",
    "while line[-1] != 60:\n",
    "    character, h, c = generator_model_line1.predict_generator(f(), steps=1)\n",
    "    line.append(np.argmax(character))\n",
    "    \n",
    "line"
   ]
  },
  {
   "cell_type": "code",
   "execution_count": null,
   "metadata": {
    "collapsed": true
   },
   "outputs": [],
   "source": []
  }
 ],
 "metadata": {
  "kernelspec": {
   "display_name": "Python 3",
   "language": "python",
   "name": "python3"
  },
  "language_info": {
   "codemirror_mode": {
    "name": "ipython",
    "version": 3
   },
   "file_extension": ".py",
   "mimetype": "text/x-python",
   "name": "python",
   "nbconvert_exporter": "python",
   "pygments_lexer": "ipython3",
   "version": "3.5.2"
  }
 },
 "nbformat": 4,
 "nbformat_minor": 2
}
