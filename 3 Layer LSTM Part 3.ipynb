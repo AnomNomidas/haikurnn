{
 "cells": [
  {
   "cell_type": "code",
   "execution_count": 70,
   "metadata": {},
   "outputs": [],
   "source": [
    "import keras\n",
    "import pandas as pd\n",
    "import numpy as np\n",
    "from keras.models import Sequential\n",
    "from keras.layers import Dense\n",
    "from keras.layers import Dropout\n",
    "from keras.layers import LSTM\n",
    "from keras.callbacks import ModelCheckpoint\n",
    "from keras.utils import np_utils\n",
    "from keras.layers import Dense, Dropout, LSTM, Embedding, Reshape, Input, InputLayer, Concatenate\n",
    "from keras.preprocessing.sequence import pad_sequences\n",
    "from keras.models import Sequential, Model"
   ]
  },
  {
   "cell_type": "code",
   "execution_count": 71,
   "metadata": {
    "collapsed": true
   },
   "outputs": [],
   "source": [
    "n_samples = 20000\n",
    "sample_inputs = []\n",
    "sample_outputs = []\n",
    "n_tokens = 61\n",
    "\n",
    "patterns = [\n",
    "    lambda i: list(range(i, i+3)),\n",
    "    lambda i: list(range(i, i-3, -1))\n",
    "]\n",
    "\n",
    "for n in range(n_samples):\n",
    "    sample_in = []\n",
    "    sample_out = []\n",
    "    for line_number in range(3):\n",
    "        i = np.random.randint(10,50)\n",
    "        #line = list(range(i, i+3))\n",
    "        pattern = np.random.randint(len(patterns))\n",
    "        line = patterns[pattern](i)\n",
    "        '''if line_number == 0:\n",
    "            sample_in.append([line[0]] + line)\n",
    "        else:\n",
    "            sample_in.append([0] + line)'''\n",
    "        \n",
    "        sample_in.append([line[0]] + line)\n",
    "            \n",
    "        sample_out.append(line + [60])\n",
    "        \n",
    "        \n",
    "        #sample.append(np.arange(i, i+3))\n",
    "    #samples.append(sample)\n",
    "    sample_inputs.append(sample_in)\n",
    "    sample_outputs.append(sample_out)\n",
    "    \n",
    "X = np_utils.to_categorical(sample_inputs, num_classes=n_tokens)\n",
    "Y = np_utils.to_categorical(sample_outputs, num_classes=n_tokens)"
   ]
  },
  {
   "cell_type": "code",
   "execution_count": 72,
   "metadata": {},
   "outputs": [
    {
     "data": {
      "text/plain": [
       "[[[15, 15, 16, 17], [18, 18, 19, 20], [17, 17, 18, 19]],\n",
       " [[28, 28, 27, 26], [32, 32, 33, 34], [22, 22, 21, 20]],\n",
       " [[48, 48, 47, 46], [38, 38, 39, 40], [39, 39, 38, 37]],\n",
       " [[20, 20, 21, 22], [39, 39, 38, 37], [44, 44, 43, 42]],\n",
       " [[28, 28, 27, 26], [31, 31, 30, 29], [20, 20, 19, 18]],\n",
       " [[34, 34, 33, 32], [27, 27, 28, 29], [24, 24, 25, 26]],\n",
       " [[22, 22, 23, 24], [31, 31, 32, 33], [18, 18, 19, 20]],\n",
       " [[45, 45, 46, 47], [14, 14, 13, 12], [30, 30, 29, 28]],\n",
       " [[39, 39, 38, 37], [25, 25, 26, 27], [41, 41, 42, 43]],\n",
       " [[13, 13, 14, 15], [39, 39, 40, 41], [16, 16, 17, 18]]]"
      ]
     },
     "execution_count": 72,
     "metadata": {},
     "output_type": "execute_result"
    }
   ],
   "source": [
    "sample_inputs[:10]"
   ]
  },
  {
   "cell_type": "code",
   "execution_count": 117,
   "metadata": {},
   "outputs": [
    {
     "name": "stdout",
     "output_type": "stream",
     "text": [
      "________________________________________________________________________________________________________________________________________________________________________________________________________\n",
      "Layer (type)                                                      Output Shape                                Param #                 Connected to                                                      \n",
      "========================================================================================================================================================================================================\n",
      "input_36 (InputLayer)                                             (None, None, 61)                            0                                                                                         \n",
      "________________________________________________________________________________________________________________________________________________________________________________________________________\n",
      "lstm_24 (LSTM)                                                    [(None, None, 512), (None, 512), (None, 512 1175552                 input_36[0][0]                                                    \n",
      "________________________________________________________________________________________________________________________________________________________________________________________________________\n",
      "input_37 (InputLayer)                                             (None, None, 61)                            0                                                                                         \n",
      "________________________________________________________________________________________________________________________________________________________________________________________________________\n",
      "lstm_25 (LSTM)                                                    [(None, None, 512), (None, 512), (None, 512 1175552                 input_37[0][0]                                                    \n",
      "                                                                                                                                      lstm_24[0][1]                                                     \n",
      "                                                                                                                                      lstm_24[0][2]                                                     \n",
      "________________________________________________________________________________________________________________________________________________________________________________________________________\n",
      "input_38 (InputLayer)                                             (None, None, 61)                            0                                                                                         \n",
      "________________________________________________________________________________________________________________________________________________________________________________________________________\n",
      "lstm_26 (LSTM)                                                    [(None, None, 512), (None, 512), (None, 512 1175552                 input_38[0][0]                                                    \n",
      "                                                                                                                                      lstm_25[0][1]                                                     \n",
      "                                                                                                                                      lstm_25[0][2]                                                     \n",
      "________________________________________________________________________________________________________________________________________________________________________________________________________\n",
      "dense_23 (Dense)                                                  (None, None, 61)                            31293                   lstm_24[0][0]                                                     \n",
      "________________________________________________________________________________________________________________________________________________________________________________________________________\n",
      "dense_24 (Dense)                                                  (None, None, 61)                            31293                   lstm_25[0][0]                                                     \n",
      "________________________________________________________________________________________________________________________________________________________________________________________________________\n",
      "dense_25 (Dense)                                                  (None, None, 61)                            31293                   lstm_26[0][0]                                                     \n",
      "========================================================================================================================================================================================================\n",
      "Total params: 3,620,535\n",
      "Trainable params: 3,620,535\n",
      "Non-trainable params: 0\n",
      "________________________________________________________________________________________________________________________________________________________________________________________________________\n"
     ]
    }
   ],
   "source": [
    "latent_dim = 512\n",
    "\n",
    "# Keras Model\n",
    "\n",
    "inputs = [Input(shape=(None, n_tokens)) for i in range(3)]\n",
    "lstms = [LSTM(latent_dim, return_state=True, return_sequences=True) for i in range(3)]\n",
    "\n",
    "lstm_out, lstm_h, lstm_c = [None, None, None], [None, None, None], [None, None, None]\n",
    "for i in range(3):\n",
    "    if i > 0:\n",
    "        lstm_out[i], lstm_h[i], lstm_c[i] = lstms[i](inputs[i], initial_state=[lstm_h[i-1], lstm_c[i-1]])\n",
    "    else:\n",
    "        lstm_out[i], lstm_h[i], lstm_c[i] = lstms[i](inputs[i])\n",
    "        \n",
    "denses = [Dense(n_tokens, activation='softmax') for i in range(3)]\n",
    "outputs = [denses[i](lstm_out[i]) for i in range(3)]\n",
    "\n",
    "model = Model(inputs, outputs)\n",
    "model.compile(optimizer='rmsprop', loss='categorical_crossentropy')\n",
    "model.summary(line_length=200)"
   ]
  },
  {
   "cell_type": "code",
   "execution_count": 118,
   "metadata": {
    "scrolled": true
   },
   "outputs": [
    {
     "name": "stdout",
     "output_type": "stream",
     "text": [
      "Epoch 1/20\n",
      "20000/20000 [==============================] - 40s 2ms/step - loss: 5.5128 - dense_23_loss: 2.0342 - dense_24_loss: 1.7703 - dense_25_loss: 1.7083\n",
      "Epoch 2/20\n",
      "20000/20000 [==============================] - 36s 2ms/step - loss: 1.1491 - dense_23_loss: 0.5398 - dense_24_loss: 0.3285 - dense_25_loss: 0.2807\n",
      "Epoch 3/20\n",
      "20000/20000 [==============================] - 36s 2ms/step - loss: 0.6769 - dense_23_loss: 0.2688 - dense_24_loss: 0.2071 - dense_25_loss: 0.2011\n",
      "Epoch 4/20\n",
      "20000/20000 [==============================] - 37s 2ms/step - loss: 0.6076 - dense_23_loss: 0.2240 - dense_24_loss: 0.1940 - dense_25_loss: 0.1896\n",
      "Epoch 5/20\n",
      "20000/20000 [==============================] - 35s 2ms/step - loss: 0.5822 - dense_23_loss: 0.2110 - dense_24_loss: 0.1879 - dense_25_loss: 0.1832\n",
      "Epoch 6/20\n",
      "20000/20000 [==============================] - 36s 2ms/step - loss: 0.5682 - dense_23_loss: 0.2059 - dense_24_loss: 0.1838 - dense_25_loss: 0.1785\n",
      "Epoch 7/20\n",
      "20000/20000 [==============================] - 36s 2ms/step - loss: 0.5565 - dense_23_loss: 0.2008 - dense_24_loss: 0.1811 - dense_25_loss: 0.1746\n",
      "Epoch 8/20\n",
      "20000/20000 [==============================] - 36s 2ms/step - loss: 0.5467 - dense_23_loss: 0.1984 - dense_24_loss: 0.1789 - dense_25_loss: 0.1694\n",
      "Epoch 9/20\n",
      "20000/20000 [==============================] - 36s 2ms/step - loss: 0.5352 - dense_23_loss: 0.1954 - dense_24_loss: 0.1771 - dense_25_loss: 0.1627\n",
      "Epoch 10/20\n",
      "20000/20000 [==============================] - 35s 2ms/step - loss: 0.5230 - dense_23_loss: 0.1934 - dense_24_loss: 0.1752 - dense_25_loss: 0.1544\n",
      "Epoch 11/20\n",
      "20000/20000 [==============================] - 36s 2ms/step - loss: 0.5087 - dense_23_loss: 0.1915 - dense_24_loss: 0.1744 - dense_25_loss: 0.1429\n",
      "Epoch 12/20\n",
      "20000/20000 [==============================] - 47s 2ms/step - loss: 0.4911 - dense_23_loss: 0.1897 - dense_24_loss: 0.1729 - dense_25_loss: 0.1285\n",
      "Epoch 13/20\n",
      "20000/20000 [==============================] - 36s 2ms/step - loss: 0.4694 - dense_23_loss: 0.1883 - dense_24_loss: 0.1717 - dense_25_loss: 0.1094\n",
      "Epoch 14/20\n",
      "20000/20000 [==============================] - 37s 2ms/step - loss: 0.4484 - dense_23_loss: 0.1875 - dense_24_loss: 0.1711 - dense_25_loss: 0.0898\n",
      "Epoch 15/20\n",
      "20000/20000 [==============================] - 46s 2ms/step - loss: 0.4284 - dense_23_loss: 0.1862 - dense_24_loss: 0.1706 - dense_25_loss: 0.0716\n",
      "Epoch 16/20\n",
      "20000/20000 [==============================] - 35s 2ms/step - loss: 0.4139 - dense_23_loss: 0.1853 - dense_24_loss: 0.1702 - dense_25_loss: 0.0585\n",
      "Epoch 17/20\n",
      "20000/20000 [==============================] - 35s 2ms/step - loss: 0.4026 - dense_23_loss: 0.1841 - dense_24_loss: 0.1696 - dense_25_loss: 0.0490\n",
      "Epoch 18/20\n",
      "20000/20000 [==============================] - 35s 2ms/step - loss: 0.3970 - dense_23_loss: 0.1836 - dense_24_loss: 0.1693 - dense_25_loss: 0.0441\n",
      "Epoch 19/20\n",
      "20000/20000 [==============================] - 48s 2ms/step - loss: 0.3915 - dense_23_loss: 0.1825 - dense_24_loss: 0.1690 - dense_25_loss: 0.0401\n",
      "Epoch 20/20\n",
      "20000/20000 [==============================] - 39s 2ms/step - loss: 0.3877 - dense_23_loss: 0.1821 - dense_24_loss: 0.1690 - dense_25_loss: 0.0366\n"
     ]
    },
    {
     "data": {
      "text/plain": [
       "<keras.callbacks.History at 0x18e01fe5518>"
      ]
     },
     "execution_count": 118,
     "metadata": {},
     "output_type": "execute_result"
    }
   ],
   "source": [
    "model.fit([X[:,0,:], X[:,1,:], X[:,2,:]], [Y[:,0,:], Y[:,1,:], Y[:,2,:]], batch_size=64, epochs=20)"
   ]
  },
  {
   "cell_type": "code",
   "execution_count": 106,
   "metadata": {
    "collapsed": true
   },
   "outputs": [],
   "source": [
    "generator_inputs = [Input(shape=(None, n_tokens), batch_shape=(1,None,n_tokens))]\n",
    "generator_lstms = [LSTM(latent_dim, return_state=True, return_sequences=True, stateful=True)]\n",
    "generator_lstm_out, generator_lstm_h, generator_lstm_c = [None, None, None], [None, None, None], [None, None, None]\n",
    "generator_lstm_out[0], generator_lstm_h[0], generator_lstm_c[0] = generator_lstms[0](\n",
    "    generator_inputs[0]\n",
    ")\n",
    "generator_denses = [Dense(n_tokens, activation='softmax')]\n",
    "generator_outputs = [generator_denses[0](generator_lstm_out[0])]"
   ]
  },
  {
   "cell_type": "code",
   "execution_count": 107,
   "metadata": {},
   "outputs": [
    {
     "name": "stdout",
     "output_type": "stream",
     "text": [
      "_________________________________________________________________\n",
      "Layer (type)                 Output Shape              Param #   \n",
      "=================================================================\n",
      "input_32 (InputLayer)        (1, None, 61)             0         \n",
      "_________________________________________________________________\n",
      "lstm_22 (LSTM)               [(1, None, 256), (1, 256) 325632    \n",
      "_________________________________________________________________\n",
      "dense_21 (Dense)             (1, None, 61)             15677     \n",
      "=================================================================\n",
      "Total params: 341,309\n",
      "Trainable params: 341,309\n",
      "Non-trainable params: 0\n",
      "_________________________________________________________________\n"
     ]
    }
   ],
   "source": [
    "generator_model_line0 = Model(generator_inputs[0], [generator_outputs[0], generator_lstm_h[0], generator_lstm_c[0]])\n",
    "generator_model_line0.summary()"
   ]
  },
  {
   "cell_type": "code",
   "execution_count": 108,
   "metadata": {},
   "outputs": [],
   "source": [
    "generator_lstms[0].set_weights(lstms[0].get_weights())\n",
    "generator_denses[0].set_weights(denses[0].get_weights())"
   ]
  },
  {
   "cell_type": "code",
   "execution_count": 115,
   "metadata": {},
   "outputs": [
    {
     "data": {
      "text/plain": [
       "[14, 14, 15, 16, 60]"
      ]
     },
     "execution_count": 115,
     "metadata": {},
     "output_type": "execute_result"
    }
   ],
   "source": [
    "generator_model_line0.reset_states()\n",
    "line = [14]\n",
    "\n",
    "def f():\n",
    "    while line[-1] != 60:\n",
    "        yield np_utils.to_categorical(line[-1], num_classes=n_tokens).reshape((1,1,-1))\n",
    "        \n",
    "while line[-1] != 60:\n",
    "    character, h, c = generator_model_line0.predict_generator(f(), steps=1)\n",
    "    line.append(np.argmax(character))\n",
    "    \n",
    "line"
   ]
  },
  {
   "cell_type": "code",
   "execution_count": 110,
   "metadata": {},
   "outputs": [
    {
     "name": "stdout",
     "output_type": "stream",
     "text": [
      "__________________________________________________________________________________________________\n",
      "Layer (type)                    Output Shape         Param #     Connected to                     \n",
      "==================================================================================================\n",
      "input_35 (InputLayer)           (1, None, 61)        0                                            \n",
      "__________________________________________________________________________________________________\n",
      "input_33 (InputLayer)           (None, 256)          0                                            \n",
      "__________________________________________________________________________________________________\n",
      "input_34 (InputLayer)           (None, 256)          0                                            \n",
      "__________________________________________________________________________________________________\n",
      "lstm_23 (LSTM)                  [(1, None, 256), (1, 325632      input_35[0][0]                   \n",
      "                                                                 input_33[0][0]                   \n",
      "                                                                 input_34[0][0]                   \n",
      "__________________________________________________________________________________________________\n",
      "dense_22 (Dense)                (1, None, 61)        15677       lstm_23[0][0]                    \n",
      "==================================================================================================\n",
      "Total params: 341,309\n",
      "Trainable params: 341,309\n",
      "Non-trainable params: 0\n",
      "__________________________________________________________________________________________________\n"
     ]
    }
   ],
   "source": [
    "generator_inputs_h = [None, Input(shape=(latent_dim,))]\n",
    "generator_inputs_c = [None, Input(shape=(latent_dim,))]\n",
    "\n",
    "generator_inputs.append(Input(shape=(None, n_tokens), batch_shape=(1,None,n_tokens)))\n",
    "generator_lstms.append(LSTM(latent_dim, return_state=True, return_sequences=True, stateful=True))\n",
    "\n",
    "generator_lstm_out[1], generator_lstm_h[1], generator_lstm_c[1] = generator_lstms[1](\n",
    "    generator_inputs[1], initial_state=[generator_inputs_h[1], generator_inputs_c[1]]\n",
    ")\n",
    "generator_denses.append(Dense(n_tokens, activation='softmax'))\n",
    "generator_outputs.append(generator_denses[1](generator_lstm_out[1]))\n",
    "\n",
    "generator_model_line1 = Model(\n",
    "    [generator_inputs[1], generator_inputs_h[1], generator_inputs_c[1]],\n",
    "    [generator_outputs[1], generator_lstm_h[1], generator_lstm_c[1]]\n",
    ")\n",
    "generator_model_line1.summary()"
   ]
  },
  {
   "cell_type": "code",
   "execution_count": 111,
   "metadata": {
    "collapsed": true
   },
   "outputs": [],
   "source": [
    "generator_lstms[1].set_weights(lstms[1].get_weights())\n",
    "generator_denses[1].set_weights(denses[1].get_weights())"
   ]
  },
  {
   "cell_type": "code",
   "execution_count": 116,
   "metadata": {},
   "outputs": [
    {
     "data": {
      "text/plain": [
       "[23, 23, 24, 25, 60]"
      ]
     },
     "execution_count": 116,
     "metadata": {},
     "output_type": "execute_result"
    }
   ],
   "source": [
    "#generator_model_line1.reset_states()\n",
    "#generator_line1_lstm.reset_states()\n",
    "#generator_lstms[1].reset_states()\n",
    "line = [23]\n",
    "#h = np.array([np.zeros(256)])\n",
    "#c = np.array([np.zeros(256)])\n",
    "\n",
    "def f():\n",
    "    while line[-1] != 60:\n",
    "        yield [np_utils.to_categorical(line[-1], num_classes=n_tokens).reshape((1,1,-1)), h, c]\n",
    "        \n",
    "while line[-1] != 60:\n",
    "    character, h, c = generator_model_line1.predict_generator(f(), steps=1)\n",
    "    line.append(np.argmax(character))\n",
    "    \n",
    "line"
   ]
  },
  {
   "cell_type": "code",
   "execution_count": null,
   "metadata": {
    "collapsed": true
   },
   "outputs": [],
   "source": []
  }
 ],
 "metadata": {
  "kernelspec": {
   "display_name": "Python 3",
   "language": "python",
   "name": "python3"
  },
  "language_info": {
   "codemirror_mode": {
    "name": "ipython",
    "version": 3
   },
   "file_extension": ".py",
   "mimetype": "text/x-python",
   "name": "python",
   "nbconvert_exporter": "python",
   "pygments_lexer": "ipython3",
   "version": "3.5.4"
  }
 },
 "nbformat": 4,
 "nbformat_minor": 2
}
