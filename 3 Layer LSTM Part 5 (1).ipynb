{
 "cells": [
  {
   "cell_type": "code",
   "execution_count": 1,
   "metadata": {},
   "outputs": [
    {
     "name": "stderr",
     "output_type": "stream",
     "text": [
      "/usr/local/lib/python3.5/dist-packages/h5py/__init__.py:36: FutureWarning: Conversion of the second argument of issubdtype from `float` to `np.floating` is deprecated. In future, it will be treated as `np.float64 == np.dtype(float).type`.\n",
      "  from ._conv import register_converters as _register_converters\n",
      "Using TensorFlow backend.\n"
     ]
    }
   ],
   "source": [
    "import keras\n",
    "import pandas as pd\n",
    "import numpy as np\n",
    "from keras.models import Sequential\n",
    "from keras.layers import Dense\n",
    "from keras.layers import Dropout\n",
    "from keras.layers import LSTM\n",
    "from keras.callbacks import ModelCheckpoint\n",
    "from keras.utils import np_utils\n",
    "from keras.layers import Dense, Dropout, LSTM, Embedding, Reshape, Input, InputLayer, Concatenate, Lambda\n",
    "from keras.preprocessing.sequence import pad_sequences\n",
    "from keras.models import Sequential, Model\n",
    "from keras import backend as K"
   ]
  },
  {
   "cell_type": "code",
   "execution_count": 12,
   "metadata": {
    "collapsed": true
   },
   "outputs": [],
   "source": [
    "n_samples = 20000\n",
    "sample_inputs = []\n",
    "sample_outputs = []\n",
    "n_tokens = 61\n",
    "\n",
    "patterns = [\n",
    "    lambda i,l: list(range(i, i+l)),\n",
    "    lambda i,l: list(range(i, i-l, -1))\n",
    "]\n",
    "\n",
    "for n in range(n_samples):\n",
    "    sample_in = []\n",
    "    sample_out = []\n",
    "    pattern = np.random.randint(len(patterns))\n",
    "    for line_number,length in enumerate([5,7,5]):\n",
    "        i = np.random.randint(10,50)\n",
    "        #line = list(range(i, i+3))\n",
    "        line = patterns[pattern](i,length)\n",
    "        '''if line_number == 0:\n",
    "            sample_in.append([line[0]] + line)\n",
    "        else:\n",
    "            sample_in.append([0] + line)'''\n",
    "        \n",
    "        sample_in.append([line[0]] + line + [60]*(9-length))\n",
    "            \n",
    "        sample_out.append(line + [60]*(10-length))\n",
    "        \n",
    "        \n",
    "        #sample.append(np.arange(i, i+3))\n",
    "    #samples.append(sample)\n",
    "    sample_inputs.append(sample_in)\n",
    "    sample_outputs.append(sample_out)\n",
    "    \n",
    "X = np_utils.to_categorical(sample_inputs, num_classes=n_tokens)\n",
    "Y = np_utils.to_categorical(sample_outputs, num_classes=n_tokens)"
   ]
  },
  {
   "cell_type": "code",
   "execution_count": 13,
   "metadata": {},
   "outputs": [
    {
     "data": {
      "text/plain": [
       "[[[39, 39, 40, 41, 42, 43, 60, 60, 60, 60],\n",
       "  [36, 36, 37, 38, 39, 40, 41, 42, 60, 60],\n",
       "  [31, 31, 32, 33, 34, 35, 60, 60, 60, 60]],\n",
       " [[21, 21, 20, 19, 18, 17, 60, 60, 60, 60],\n",
       "  [39, 39, 38, 37, 36, 35, 34, 33, 60, 60],\n",
       "  [25, 25, 24, 23, 22, 21, 60, 60, 60, 60]],\n",
       " [[48, 48, 47, 46, 45, 44, 60, 60, 60, 60],\n",
       "  [22, 22, 21, 20, 19, 18, 17, 16, 60, 60],\n",
       "  [25, 25, 24, 23, 22, 21, 60, 60, 60, 60]],\n",
       " [[32, 32, 33, 34, 35, 36, 60, 60, 60, 60],\n",
       "  [22, 22, 23, 24, 25, 26, 27, 28, 60, 60],\n",
       "  [47, 47, 48, 49, 50, 51, 60, 60, 60, 60]],\n",
       " [[40, 40, 39, 38, 37, 36, 60, 60, 60, 60],\n",
       "  [22, 22, 21, 20, 19, 18, 17, 16, 60, 60],\n",
       "  [42, 42, 41, 40, 39, 38, 60, 60, 60, 60]],\n",
       " [[31, 31, 32, 33, 34, 35, 60, 60, 60, 60],\n",
       "  [18, 18, 19, 20, 21, 22, 23, 24, 60, 60],\n",
       "  [33, 33, 34, 35, 36, 37, 60, 60, 60, 60]],\n",
       " [[43, 43, 42, 41, 40, 39, 60, 60, 60, 60],\n",
       "  [23, 23, 22, 21, 20, 19, 18, 17, 60, 60],\n",
       "  [11, 11, 10, 9, 8, 7, 60, 60, 60, 60]],\n",
       " [[34, 34, 35, 36, 37, 38, 60, 60, 60, 60],\n",
       "  [26, 26, 27, 28, 29, 30, 31, 32, 60, 60],\n",
       "  [37, 37, 38, 39, 40, 41, 60, 60, 60, 60]],\n",
       " [[48, 48, 47, 46, 45, 44, 60, 60, 60, 60],\n",
       "  [18, 18, 17, 16, 15, 14, 13, 12, 60, 60],\n",
       "  [27, 27, 26, 25, 24, 23, 60, 60, 60, 60]],\n",
       " [[34, 34, 35, 36, 37, 38, 60, 60, 60, 60],\n",
       "  [46, 46, 47, 48, 49, 50, 51, 52, 60, 60],\n",
       "  [15, 15, 16, 17, 18, 19, 60, 60, 60, 60]]]"
      ]
     },
     "execution_count": 13,
     "metadata": {},
     "output_type": "execute_result"
    }
   ],
   "source": [
    "sample_inputs[:10]"
   ]
  },
  {
   "cell_type": "code",
   "execution_count": 14,
   "metadata": {},
   "outputs": [
    {
     "name": "stdout",
     "output_type": "stream",
     "text": [
      "________________________________________________________________________________________________________________________________________________________________________________________________________\n",
      "Layer (type)                                                      Output Shape                                Param #                 Connected to                                                      \n",
      "========================================================================================================================================================================================================\n",
      "input_11 (InputLayer)                                             (None, None, 61)                            0                                                                                         \n",
      "________________________________________________________________________________________________________________________________________________________________________________________________________\n",
      "lstm_7 (LSTM)                                                     [(None, None, 128), (None, 128), (None, 128 97280                   input_11[0][0]                                                    \n",
      "________________________________________________________________________________________________________________________________________________________________________________________________________\n",
      "input_12 (InputLayer)                                             (None, None, 61)                            0                                                                                         \n",
      "________________________________________________________________________________________________________________________________________________________________________________________________________\n",
      "lstm_8 (LSTM)                                                     [(None, None, 128), (None, 128), (None, 128 97280                   input_12[0][0]                                                    \n",
      "                                                                                                                                      lstm_7[0][1]                                                      \n",
      "                                                                                                                                      lstm_7[0][2]                                                      \n",
      "________________________________________________________________________________________________________________________________________________________________________________________________________\n",
      "input_13 (InputLayer)                                             (None, None, 61)                            0                                                                                         \n",
      "________________________________________________________________________________________________________________________________________________________________________________________________________\n",
      "lstm_9 (LSTM)                                                     [(None, None, 128), (None, 128), (None, 128 97280                   input_13[0][0]                                                    \n",
      "                                                                                                                                      lstm_8[0][1]                                                      \n",
      "                                                                                                                                      lstm_8[0][2]                                                      \n",
      "________________________________________________________________________________________________________________________________________________________________________________________________________\n",
      "dense_7 (Dense)                                                   (None, None, 61)                            7869                    lstm_7[0][0]                                                      \n",
      "________________________________________________________________________________________________________________________________________________________________________________________________________\n",
      "dense_8 (Dense)                                                   (None, None, 61)                            7869                    lstm_8[0][0]                                                      \n",
      "________________________________________________________________________________________________________________________________________________________________________________________________________\n",
      "dense_9 (Dense)                                                   (None, None, 61)                            7869                    lstm_9[0][0]                                                      \n",
      "________________________________________________________________________________________________________________________________________________________________________________________________________\n",
      "lambda_2 (Lambda)                                                 (None, 1)                                   0                       dense_7[0][0]                                                     \n",
      "                                                                                                                                      dense_8[0][0]                                                     \n",
      "                                                                                                                                      dense_9[0][0]                                                     \n",
      "========================================================================================================================================================================================================\n",
      "Total params: 315,447\n",
      "Trainable params: 315,447\n",
      "Non-trainable params: 0\n",
      "________________________________________________________________________________________________________________________________________________________________________________________________________\n"
     ]
    }
   ],
   "source": [
    "latent_dim = 128\n",
    "\n",
    "# Keras Model\n",
    "\n",
    "inputs = [Input(shape=(None, n_tokens)) for i in range(3)]\n",
    "lstms = [LSTM(latent_dim, return_state=True, return_sequences=True) for i in range(3)]\n",
    "\n",
    "lstm_out, lstm_h, lstm_c = [None, None, None], [None, None, None], [None, None, None]\n",
    "for i in range(3):\n",
    "    if i > 0:\n",
    "        lstm_out[i], lstm_h[i], lstm_c[i] = lstms[i](inputs[i], initial_state=[lstm_h[i-1], lstm_c[i-1]])\n",
    "    else:\n",
    "        lstm_out[i], lstm_h[i], lstm_c[i] = lstms[i](inputs[i])\n",
    "        \n",
    "denses = [Dense(n_tokens, activation='softmax') for i in range(3)]\n",
    "outputs = [denses[i](lstm_out[i]) for i in range(3)]\n",
    "\n",
    "# Enforce number of chars per line\n",
    "counter = Lambda(lambda x: K.sum(K.cast(K.less(K.argmax(x, axis=2), 60), K.floatx()), axis=1, keepdims=True))\n",
    "counts = [counter(i) for i in outputs]\n",
    "\n",
    "model = Model(inputs, outputs + counts)\n",
    "\n",
    "# Use categorical for the character outputs and MSE for the counts\n",
    "model.compile(optimizer='rmsprop', loss=['categorical_crossentropy']*3 + ['mean_squared_error']*3)\n",
    "model.summary(line_length=200)"
   ]
  },
  {
   "cell_type": "code",
   "execution_count": 16,
   "metadata": {},
   "outputs": [
    {
     "name": "stdout",
     "output_type": "stream",
     "text": [
      "Epoch 1/10\n",
      "20000/20000 [==============================] - 7s 359us/step - loss: 0.2045 - dense_7_loss: 0.0852 - dense_8_loss: 0.0777 - dense_9_loss: 0.0050 - lambda_2_loss: 0.0079\n",
      "Epoch 2/10\n",
      "20000/20000 [==============================] - 7s 361us/step - loss: 0.1412 - dense_7_loss: 0.0798 - dense_8_loss: 0.0300 - dense_9_loss: 0.0052 - lambda_2_loss: 0.0092\n",
      "Epoch 3/10\n",
      "20000/20000 [==============================] - 7s 364us/step - loss: 0.1357 - dense_7_loss: 0.0780 - dense_8_loss: 0.0141 - dense_9_loss: 0.0026 - lambda_2_loss: 0.0089\n",
      "Epoch 4/10\n",
      "20000/20000 [==============================] - 7s 364us/step - loss: 0.1015 - dense_7_loss: 0.0758 - dense_8_loss: 0.0094 - dense_9_loss: 0.0037 - lambda_2_loss: 6.0000e-04\n",
      "Epoch 5/10\n",
      "20000/20000 [==============================] - 7s 362us/step - loss: 0.1098 - dense_7_loss: 0.0751 - dense_8_loss: 0.0057 - dense_9_loss: 0.0035 - lambda_2_loss: 0.0099\n",
      "Epoch 6/10\n",
      "20000/20000 [==============================] - 7s 358us/step - loss: 0.0870 - dense_7_loss: 0.0736 - dense_8_loss: 0.0020 - dense_9_loss: 0.0052 - lambda_2_loss: 0.0052\n",
      "Epoch 7/10\n",
      "20000/20000 [==============================] - 7s 357us/step - loss: 0.0975 - dense_7_loss: 0.0753 - dense_8_loss: 0.0063 - dense_9_loss: 1.1899e-05 - lambda_2_loss: 0.0000e+00\n",
      "Epoch 8/10\n",
      "20000/20000 [==============================] - 7s 361us/step - loss: 0.1076 - dense_7_loss: 0.0741 - dense_8_loss: 0.0064 - dense_9_loss: 0.0027 - lambda_2_loss: 0.0083\n",
      "Epoch 9/10\n",
      "20000/20000 [==============================] - 7s 364us/step - loss: 0.0934 - dense_7_loss: 0.0729 - dense_8_loss: 0.0034 - dense_9_loss: 0.0032 - lambda_2_loss: 0.0055\n",
      "Epoch 10/10\n",
      "20000/20000 [==============================] - 7s 364us/step - loss: 0.0898 - dense_7_loss: 0.0731 - dense_8_loss: 0.0060 - dense_9_loss: 3.4864e-06 - lambda_2_loss: 0.0000e+00TA: 3s - loss: 0.0730 - dense_7_loss: \n"
     ]
    },
    {
     "data": {
      "text/plain": [
       "<keras.callbacks.History at 0x7faf1810cb00>"
      ]
     },
     "execution_count": 16,
     "metadata": {},
     "output_type": "execute_result"
    }
   ],
   "source": [
    "model.fit(\n",
    "    [X[:,0,:], X[:,1,:], X[:,2,:]], \n",
    "    [\n",
    "        Y[:,0,:], Y[:,1,:], Y[:,2,:], \n",
    "        np.ones(n_samples)*5, np.ones(n_samples)*7,  np.ones(n_samples)*5\n",
    "    ],\n",
    "    batch_size=128, epochs=10\n",
    ")"
   ]
  },
  {
   "cell_type": "code",
   "execution_count": 17,
   "metadata": {},
   "outputs": [
    {
     "name": "stdout",
     "output_type": "stream",
     "text": [
      "_________________________________________________________________\n",
      "Layer (type)                 Output Shape              Param #   \n",
      "=================================================================\n",
      "input_14 (InputLayer)        (1, None, 61)             0         \n",
      "_________________________________________________________________\n",
      "lstm_10 (LSTM)               [(1, None, 128), (1, 128) 97280     \n",
      "_________________________________________________________________\n",
      "dense_10 (Dense)             (1, None, 61)             7869      \n",
      "=================================================================\n",
      "Total params: 105,149\n",
      "Trainable params: 105,149\n",
      "Non-trainable params: 0\n",
      "_________________________________________________________________\n"
     ]
    }
   ],
   "source": [
    "generator_inputs = [Input(shape=(None, n_tokens), batch_shape=(1,None,n_tokens)) for i in range(3)]\n",
    "generator_lstms = [LSTM(latent_dim, return_state=True, return_sequences=True, stateful=True) for i in range(3)]\n",
    "generator_lstm_out, generator_lstm_h, generator_lstm_c = [None, None, None], [None, None, None], [None, None, None]\n",
    "generator_denses = [Dense(n_tokens, activation='softmax') for i in range(3)]\n",
    "\n",
    "# Hook up line 0\n",
    "generator_lstm_out[0], generator_lstm_h[0], generator_lstm_c[0] = generator_lstms[0](\n",
    "    generator_inputs[0]\n",
    ")\n",
    "generator_outputs = [generator_denses[0](generator_lstm_out[0])]\n",
    "generator_models = [Model(generator_inputs[0], [generator_outputs[0], generator_lstm_h[0], generator_lstm_c[0]])]\n",
    "\n",
    "# Set weights for line 0\n",
    "generator_lstms[0].set_weights(lstms[0].get_weights())\n",
    "generator_denses[0].set_weights(denses[0].get_weights())\n",
    "\n",
    "generator_models[0].summary()"
   ]
  },
  {
   "cell_type": "code",
   "execution_count": 18,
   "metadata": {
    "collapsed": true
   },
   "outputs": [],
   "source": [
    "generator_inputs_h = [None, Input(shape=(latent_dim,)), Input(shape=(latent_dim,))]\n",
    "generator_inputs_c = [None, Input(shape=(latent_dim,)), Input(shape=(latent_dim,))]\n",
    "\n",
    "#generator_inputs.append(Input(shape=(None, n_tokens), batch_shape=(1,None,n_tokens)))\n",
    "#generator_lstms.append(LSTM(latent_dim, return_state=True, return_sequences=True, stateful=True))\n",
    "\n",
    "\n",
    "# Hook up lines 1 and 2\n",
    "for i in [1, 2]:\n",
    "    generator_lstm_out[i], generator_lstm_h[i], generator_lstm_c[i] = generator_lstms[i](\n",
    "        generator_inputs[i], initial_state=[generator_inputs_h[i], generator_inputs_c[i]]\n",
    "    )\n",
    "    generator_outputs.append(generator_denses[i](generator_lstm_out[i]))\n",
    "#generator_denses.append(Dense(n_tokens, activation='softmax'))\n",
    "\n",
    "    generator_models.append(Model(\n",
    "        [generator_inputs[i], generator_inputs_h[i], generator_inputs_c[i]],\n",
    "        [generator_outputs[i], generator_lstm_h[i], generator_lstm_c[i]]\n",
    "    ))\n",
    "\n",
    "    generator_lstms[i].set_weights(lstms[i].get_weights())\n",
    "    generator_denses[i].set_weights(denses[i].get_weights())\n",
    "\n",
    "#generator_model_line1.summary()"
   ]
  },
  {
   "cell_type": "code",
   "execution_count": 24,
   "metadata": {},
   "outputs": [
    {
     "name": "stdout",
     "output_type": "stream",
     "text": [
      "[25, 26, 27, 28, 29]\n",
      "[38, 39, 40, 41, 42, 43, 44]\n",
      "[45, 46, 47, 48, 49]\n"
     ]
    }
   ],
   "source": [
    "h,c = None, None\n",
    "generator_models[0].reset_states()\n",
    "for i in range(3):\n",
    "    line = [np.random.randint(10,50)]\n",
    "    \n",
    "    def f():\n",
    "        while True:\n",
    "            if i > 0:\n",
    "                yield [np_utils.to_categorical(line[-1], num_classes=n_tokens).reshape((1,1,-1)), h, c]\n",
    "            else:\n",
    "                yield np_utils.to_categorical(line[-1], num_classes=n_tokens).reshape((1,1,-1))\n",
    "        \n",
    "    while len(line) < 10:\n",
    "        character, h, c = generator_models[i].predict_generator(f(), steps=1)\n",
    "        line.append(np.argmax(character))\n",
    "        \n",
    "    print(line[1:line.index(60)])"
   ]
  },
  {
   "cell_type": "code",
   "execution_count": null,
   "metadata": {
    "collapsed": true
   },
   "outputs": [],
   "source": []
  }
 ],
 "metadata": {
  "kernelspec": {
   "display_name": "Python 3",
   "language": "python",
   "name": "python3"
  },
  "language_info": {
   "codemirror_mode": {
    "name": "ipython",
    "version": 3
   },
   "file_extension": ".py",
   "mimetype": "text/x-python",
   "name": "python",
   "nbconvert_exporter": "python",
   "pygments_lexer": "ipython3",
   "version": "3.5.4"
  }
 },
 "nbformat": 4,
 "nbformat_minor": 2
}
